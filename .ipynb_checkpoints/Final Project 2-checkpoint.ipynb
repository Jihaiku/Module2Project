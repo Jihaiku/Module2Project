{
 "cells": [
  {
   "cell_type": "markdown",
   "metadata": {},
   "source": [
    "<div style=\"text-align: right\"> Christopher Hyek </div>\n",
    "<div style=\"text-align: right\"> 6/23/2019 </div>\n",
    "<h1 align=\"center\"> Module 2 Project </div>\n",
    "<h2 align=\"center\"> Northwind Traders Data Querying </div>"
   ]
  },
  {
   "cell_type": "markdown",
   "metadata": {},
   "source": [
    "# Index\n",
    "\n",
    "[**Project and Goals**](#Project)\n",
    "\n",
    "[**Methodology**](#Methodology)\n",
    "\n",
    "[**Data Cleaing**](#Data_Cleaning)\n",
    "\n",
    "[**Question Asked**](#Question_Asked)\n",
    "  * Visualization\n",
    "  * Models\n",
    "  * Recommendation\n",
    "\n",
    "[**Question 1**](#Question_1)\n",
    "  * Visualization\n",
    "  * Models\n",
    "  * Recommendation\n",
    "\n",
    "[**Question 2**](#Question_2)\n",
    "  * Visualization\n",
    "  * Models\n",
    "  * Recommendation\n",
    "\n",
    "[**Question 3**](#Question_3)\n",
    "  * Visualization\n",
    "  * Models\n",
    "  * Recommendation\n",
    "  \n",
    "[**Conclusion**](#Conclusion)"
   ]
  },
  {
   "cell_type": "markdown",
   "metadata": {},
   "source": [
    "### Setting Up the Code\n",
    "\n",
    "Below this is the quick way to change directory and all of the imported libraries. "
   ]
  },
  {
   "cell_type": "code",
   "execution_count": 1,
   "metadata": {},
   "outputs": [
    {
     "name": "stdout",
     "output_type": "stream",
     "text": [
      "C:\\Users\\Atlas\n"
     ]
    }
   ],
   "source": [
    "cd"
   ]
  },
  {
   "cell_type": "code",
   "execution_count": 2,
   "metadata": {},
   "outputs": [
    {
     "name": "stdout",
     "output_type": "stream",
     "text": [
      "C:\\Users\\Atlas\\dsc-2-final-project-online-ds-ft-041519\n"
     ]
    }
   ],
   "source": [
    "cd dsc-2-final-project-online-ds-ft-041519/"
   ]
  },
  {
   "cell_type": "code",
   "execution_count": 3,
   "metadata": {},
   "outputs": [],
   "source": [
    "import sqlalchemy\n",
    "from sqlalchemy import create_engine\n",
    "from sqlalchemy.orm import Session, sessionmaker\n",
    "from sqlalchemy import inspect\n",
    "import pandas as pd\n",
    "import numpy as np\n",
    "import scipy.stats as scs\n",
    "import statsmodels.api as sm\n",
    "from statsmodels.formula.api import ols\n",
    "import seaborn as sns\n",
    "import matplotlib.pyplot as plt\n",
    "%matplotlib inline"
   ]
  },
  {
   "cell_type": "markdown",
   "metadata": {},
   "source": [
    "# Project\n",
    "\n",
    "The project in question will be detailing the fake company known as Northwind Trader using their SqlLite database. We will be using their data to answer statistically relevant questions for the sake of bettering their faux practice. \n",
    "\n",
    "### **Question Provided**\n",
    "\n",
    "Do discounts have a statistically significant effect on the number of products customers order? If so, at what level(s) of discount?\n",
    "\n",
    "### **Question 1**\n",
    "\n",
    "Does the average price in the purchase hold statistical sifnificance towards the category of goods purchased? \n",
    "\n",
    "### **Question 2**\n",
    "\n",
    "Is there a statistical significance for total revenue per region?  \n",
    "\n",
    "### **Question 3**\n",
    "\n",
    "Is there a statistical significance on Average Price based on who is shipping it? "
   ]
  },
  {
   "cell_type": "markdown",
   "metadata": {},
   "source": [
    "# Methodology\n",
    "\n",
    "Given each of the questions will be asking about different topics or using slightly different methods based on the needs of the question I will be seperating the methodology below based on the question. <br>\n",
    "With that in mind there are a few things that will remain the same for each question. \n",
    "    * Data Cleaning\n",
    "    * Data Visualization\n",
    "    * Hypothesis Testing\n",
    "    * Final Conclusion/End Remarks"
   ]
  },
  {
   "cell_type": "markdown",
   "metadata": {},
   "source": [
    "# Data_Cleaning\n",
    "Below I will be showing my step by step thought process and actions on how I cleaned the data for each of the tables and columns.\n",
    "\n",
    "#### Beginning Steps\n",
    "\n",
    "First thing I needed to do was create the engine and to create the session. After that I created the inspector variable to facilitate checking the directory.\n",
    "\n",
    "Once I got the table names I had my first step into scrubbing the data."
   ]
  },
  {
   "cell_type": "code",
   "execution_count": 4,
   "metadata": {},
   "outputs": [],
   "source": [
    "engine = create_engine(\"sqlite:///Northwind_small.sqlite\", echo=True)\n",
    "Session = sessionmaker(bind=engine)\n",
    "session = Session()"
   ]
  },
  {
   "cell_type": "code",
   "execution_count": 5,
   "metadata": {
    "scrolled": true
   },
   "outputs": [
    {
     "name": "stdout",
     "output_type": "stream",
     "text": [
      "2019-06-23 19:05:59,443 INFO sqlalchemy.engine.base.Engine SELECT CAST('test plain returns' AS VARCHAR(60)) AS anon_1\n",
      "2019-06-23 19:05:59,445 INFO sqlalchemy.engine.base.Engine ()\n",
      "2019-06-23 19:05:59,446 INFO sqlalchemy.engine.base.Engine SELECT CAST('test unicode returns' AS VARCHAR(60)) AS anon_1\n",
      "2019-06-23 19:05:59,447 INFO sqlalchemy.engine.base.Engine ()\n",
      "2019-06-23 19:05:59,448 INFO sqlalchemy.engine.base.Engine SELECT name FROM sqlite_master WHERE type='table' ORDER BY name\n",
      "2019-06-23 19:05:59,449 INFO sqlalchemy.engine.base.Engine ()\n",
      "['Category', 'Customer', 'CustomerCustomerDemo', 'CustomerDemographic', 'Employee', 'EmployeeTerritory', 'Order', 'OrderDetail', 'Product', 'Region', 'Shipper', 'Supplier', 'Territory']\n"
     ]
    }
   ],
   "source": [
    "inspector = inspect(engine)\n",
    "print(inspector.get_table_names())"
   ]
  },
  {
   "cell_type": "markdown",
   "metadata": {},
   "source": [
    "#### Make a Column creating function\n",
    "\n",
    "This is one of the first things that the SQLAlchemy lab helped us in creating. It makes a very clean and readable version of what columns there are in each table."
   ]
  },
  {
   "cell_type": "code",
   "execution_count": 6,
   "metadata": {
    "scrolled": false
   },
   "outputs": [],
   "source": [
    "def get_columns_info(col_name):\n",
    "    cols_list = inspector.get_columns(col_name)\n",
    "    \n",
    "    print(\"Table Name: {}\".format(col_name))\n",
    "    print(\"\")\n",
    "    \n",
    "    for column in cols_list:\n",
    "        print(\"Name: {} \\t Type: {}\".format(column['name'], column['type']))\n",
    "\n",
    "# Test to see if it worked\n",
    "# get_columns_info('OrderDetail')"
   ]
  },
  {
   "cell_type": "markdown",
   "metadata": {},
   "source": [
    "### Each Column Name per Table\n",
    "\n",
    "After collecting all of the Table names with .get_table_names(), I only needed to copy the output into a list and then run a for loop to have every Column name from every Table."
   ]
  },
  {
   "cell_type": "code",
   "execution_count": 7,
   "metadata": {
    "scrolled": true
   },
   "outputs": [
    {
     "name": "stdout",
     "output_type": "stream",
     "text": [
      "2019-06-23 19:06:01,675 INFO sqlalchemy.engine.base.Engine PRAGMA table_info(\"Category\")\n",
      "2019-06-23 19:06:01,676 INFO sqlalchemy.engine.base.Engine ()\n",
      "Table Name: Category\n",
      "\n",
      "Name: Id \t Type: INTEGER\n",
      "Name: CategoryName \t Type: VARCHAR(8000)\n",
      "Name: Description \t Type: VARCHAR(8000)\n",
      "----------------------------------------------------------------------------------------------------\n",
      "\n",
      "2019-06-23 19:06:01,680 INFO sqlalchemy.engine.base.Engine PRAGMA table_info(\"Customer\")\n",
      "2019-06-23 19:06:01,680 INFO sqlalchemy.engine.base.Engine ()\n",
      "Table Name: Customer\n",
      "\n",
      "Name: Id \t Type: VARCHAR(8000)\n",
      "Name: CompanyName \t Type: VARCHAR(8000)\n",
      "Name: ContactName \t Type: VARCHAR(8000)\n",
      "Name: ContactTitle \t Type: VARCHAR(8000)\n",
      "Name: Address \t Type: VARCHAR(8000)\n",
      "Name: City \t Type: VARCHAR(8000)\n",
      "Name: Region \t Type: VARCHAR(8000)\n",
      "Name: PostalCode \t Type: VARCHAR(8000)\n",
      "Name: Country \t Type: VARCHAR(8000)\n",
      "Name: Phone \t Type: VARCHAR(8000)\n",
      "Name: Fax \t Type: VARCHAR(8000)\n",
      "----------------------------------------------------------------------------------------------------\n",
      "\n",
      "2019-06-23 19:06:01,683 INFO sqlalchemy.engine.base.Engine PRAGMA table_info(\"CustomerCustomerDemo\")\n",
      "2019-06-23 19:06:01,683 INFO sqlalchemy.engine.base.Engine ()\n",
      "Table Name: CustomerCustomerDemo\n",
      "\n",
      "Name: Id \t Type: VARCHAR(8000)\n",
      "Name: CustomerTypeId \t Type: VARCHAR(8000)\n",
      "----------------------------------------------------------------------------------------------------\n",
      "\n",
      "2019-06-23 19:06:01,685 INFO sqlalchemy.engine.base.Engine PRAGMA table_info(\"CustomerDemographic\")\n",
      "2019-06-23 19:06:01,686 INFO sqlalchemy.engine.base.Engine ()\n",
      "Table Name: CustomerDemographic\n",
      "\n",
      "Name: Id \t Type: VARCHAR(8000)\n",
      "Name: CustomerDesc \t Type: VARCHAR(8000)\n",
      "----------------------------------------------------------------------------------------------------\n",
      "\n",
      "2019-06-23 19:06:01,688 INFO sqlalchemy.engine.base.Engine PRAGMA table_info(\"Employee\")\n",
      "2019-06-23 19:06:01,688 INFO sqlalchemy.engine.base.Engine ()\n",
      "Table Name: Employee\n",
      "\n",
      "Name: Id \t Type: INTEGER\n",
      "Name: LastName \t Type: VARCHAR(8000)\n",
      "Name: FirstName \t Type: VARCHAR(8000)\n",
      "Name: Title \t Type: VARCHAR(8000)\n",
      "Name: TitleOfCourtesy \t Type: VARCHAR(8000)\n",
      "Name: BirthDate \t Type: VARCHAR(8000)\n",
      "Name: HireDate \t Type: VARCHAR(8000)\n",
      "Name: Address \t Type: VARCHAR(8000)\n",
      "Name: City \t Type: VARCHAR(8000)\n",
      "Name: Region \t Type: VARCHAR(8000)\n",
      "Name: PostalCode \t Type: VARCHAR(8000)\n",
      "Name: Country \t Type: VARCHAR(8000)\n",
      "Name: HomePhone \t Type: VARCHAR(8000)\n",
      "Name: Extension \t Type: VARCHAR(8000)\n",
      "Name: Photo \t Type: BLOB\n",
      "Name: Notes \t Type: VARCHAR(8000)\n",
      "Name: ReportsTo \t Type: INTEGER\n",
      "Name: PhotoPath \t Type: VARCHAR(8000)\n",
      "----------------------------------------------------------------------------------------------------\n",
      "\n",
      "2019-06-23 19:06:01,691 INFO sqlalchemy.engine.base.Engine PRAGMA table_info(\"EmployeeTerritory\")\n",
      "2019-06-23 19:06:01,691 INFO sqlalchemy.engine.base.Engine ()\n",
      "Table Name: EmployeeTerritory\n",
      "\n",
      "Name: Id \t Type: VARCHAR(8000)\n",
      "Name: EmployeeId \t Type: INTEGER\n",
      "Name: TerritoryId \t Type: VARCHAR(8000)\n",
      "----------------------------------------------------------------------------------------------------\n",
      "\n",
      "2019-06-23 19:06:01,693 INFO sqlalchemy.engine.base.Engine PRAGMA table_info(\"Order\")\n",
      "2019-06-23 19:06:01,694 INFO sqlalchemy.engine.base.Engine ()\n",
      "Table Name: Order\n",
      "\n",
      "Name: Id \t Type: INTEGER\n",
      "Name: CustomerId \t Type: VARCHAR(8000)\n",
      "Name: EmployeeId \t Type: INTEGER\n",
      "Name: OrderDate \t Type: VARCHAR(8000)\n",
      "Name: RequiredDate \t Type: VARCHAR(8000)\n",
      "Name: ShippedDate \t Type: VARCHAR(8000)\n",
      "Name: ShipVia \t Type: INTEGER\n",
      "Name: Freight \t Type: DECIMAL\n",
      "Name: ShipName \t Type: VARCHAR(8000)\n",
      "Name: ShipAddress \t Type: VARCHAR(8000)\n",
      "Name: ShipCity \t Type: VARCHAR(8000)\n",
      "Name: ShipRegion \t Type: VARCHAR(8000)\n",
      "Name: ShipPostalCode \t Type: VARCHAR(8000)\n",
      "Name: ShipCountry \t Type: VARCHAR(8000)\n",
      "----------------------------------------------------------------------------------------------------\n",
      "\n",
      "2019-06-23 19:06:01,697 INFO sqlalchemy.engine.base.Engine PRAGMA table_info(\"OrderDetail\")\n",
      "2019-06-23 19:06:01,697 INFO sqlalchemy.engine.base.Engine ()\n",
      "Table Name: OrderDetail\n",
      "\n",
      "Name: Id \t Type: VARCHAR(8000)\n",
      "Name: OrderId \t Type: INTEGER\n",
      "Name: ProductId \t Type: INTEGER\n",
      "Name: UnitPrice \t Type: DECIMAL\n",
      "Name: Quantity \t Type: INTEGER\n",
      "Name: Discount \t Type: FLOAT\n",
      "----------------------------------------------------------------------------------------------------\n",
      "\n",
      "2019-06-23 19:06:01,700 INFO sqlalchemy.engine.base.Engine PRAGMA table_info(\"Product\")\n",
      "2019-06-23 19:06:01,701 INFO sqlalchemy.engine.base.Engine ()\n",
      "Table Name: Product\n",
      "\n",
      "Name: Id \t Type: INTEGER\n",
      "Name: ProductName \t Type: VARCHAR(8000)\n",
      "Name: SupplierId \t Type: INTEGER\n",
      "Name: CategoryId \t Type: INTEGER\n",
      "Name: QuantityPerUnit \t Type: VARCHAR(8000)\n",
      "Name: UnitPrice \t Type: DECIMAL\n",
      "Name: UnitsInStock \t Type: INTEGER\n",
      "Name: UnitsOnOrder \t Type: INTEGER\n",
      "Name: ReorderLevel \t Type: INTEGER\n",
      "Name: Discontinued \t Type: INTEGER\n",
      "----------------------------------------------------------------------------------------------------\n",
      "\n",
      "2019-06-23 19:06:01,703 INFO sqlalchemy.engine.base.Engine PRAGMA table_info(\"Region\")\n",
      "2019-06-23 19:06:01,704 INFO sqlalchemy.engine.base.Engine ()\n",
      "Table Name: Region\n",
      "\n",
      "Name: Id \t Type: INTEGER\n",
      "Name: RegionDescription \t Type: VARCHAR(8000)\n",
      "----------------------------------------------------------------------------------------------------\n",
      "\n",
      "2019-06-23 19:06:01,706 INFO sqlalchemy.engine.base.Engine PRAGMA table_info(\"Shipper\")\n",
      "2019-06-23 19:06:01,706 INFO sqlalchemy.engine.base.Engine ()\n",
      "Table Name: Shipper\n",
      "\n",
      "Name: Id \t Type: INTEGER\n",
      "Name: CompanyName \t Type: VARCHAR(8000)\n",
      "Name: Phone \t Type: VARCHAR(8000)\n",
      "----------------------------------------------------------------------------------------------------\n",
      "\n",
      "2019-06-23 19:06:01,708 INFO sqlalchemy.engine.base.Engine PRAGMA table_info(\"Supplier\")\n",
      "2019-06-23 19:06:01,708 INFO sqlalchemy.engine.base.Engine ()\n",
      "Table Name: Supplier\n",
      "\n",
      "Name: Id \t Type: INTEGER\n",
      "Name: CompanyName \t Type: VARCHAR(8000)\n",
      "Name: ContactName \t Type: VARCHAR(8000)\n",
      "Name: ContactTitle \t Type: VARCHAR(8000)\n",
      "Name: Address \t Type: VARCHAR(8000)\n",
      "Name: City \t Type: VARCHAR(8000)\n",
      "Name: Region \t Type: VARCHAR(8000)\n",
      "Name: PostalCode \t Type: VARCHAR(8000)\n",
      "Name: Country \t Type: VARCHAR(8000)\n",
      "Name: Phone \t Type: VARCHAR(8000)\n",
      "Name: Fax \t Type: VARCHAR(8000)\n",
      "Name: HomePage \t Type: VARCHAR(8000)\n",
      "----------------------------------------------------------------------------------------------------\n",
      "\n",
      "2019-06-23 19:06:01,711 INFO sqlalchemy.engine.base.Engine PRAGMA table_info(\"Territory\")\n",
      "2019-06-23 19:06:01,712 INFO sqlalchemy.engine.base.Engine ()\n",
      "Table Name: Territory\n",
      "\n",
      "Name: Id \t Type: VARCHAR(8000)\n",
      "Name: TerritoryDescription \t Type: VARCHAR(8000)\n",
      "Name: RegionId \t Type: INTEGER\n",
      "----------------------------------------------------------------------------------------------------\n",
      "\n"
     ]
    }
   ],
   "source": [
    "table_name_list = ['Category', 'Customer', 'CustomerCustomerDemo', 'CustomerDemographic', 'Employee','EmployeeTerritory', 'Order', 'OrderDetail', 'Product', 'Region', 'Shipper', 'Supplier', 'Territory']\n",
    "for i in table_name_list:\n",
    "    get_columns_info(i)\n",
    "    print('-'*100 + '\\n')"
   ]
  },
  {
   "cell_type": "markdown",
   "metadata": {},
   "source": [
    "#### How to check each table for NaN or strange values\n"
   ]
  },
  {
   "cell_type": "code",
   "execution_count": 8,
   "metadata": {
    "scrolled": false
   },
   "outputs": [],
   "source": [
    "def null_val_check(df_tablename):\n",
    "    dfn = pd.read_sql_query(\"SELECT * FROM [{}]\".format(df_tablename), engine)\n",
    "    return dfn.isna().sum()\n",
    "\n",
    "# Test for a single table\n",
    "# null_val_check(\"Order\")"
   ]
  },
  {
   "cell_type": "code",
   "execution_count": 9,
   "metadata": {},
   "outputs": [
    {
     "name": "stdout",
     "output_type": "stream",
     "text": [
      "Category\n",
      "\n",
      "2019-06-23 19:06:05,097 INFO sqlalchemy.engine.base.Engine SELECT * FROM [Category]\n",
      "2019-06-23 19:06:05,098 INFO sqlalchemy.engine.base.Engine ()\n",
      "Id              0\n",
      "CategoryName    0\n",
      "Description     0\n",
      "dtype: int64\n",
      "\n",
      "\n",
      "----------------------------------------------------------------------------------------------------\n",
      "\n",
      "Customer\n",
      "\n",
      "2019-06-23 19:06:05,103 INFO sqlalchemy.engine.base.Engine SELECT * FROM [Customer]\n",
      "2019-06-23 19:06:05,103 INFO sqlalchemy.engine.base.Engine ()\n",
      "Id               0\n",
      "CompanyName      0\n",
      "ContactName      0\n",
      "ContactTitle     0\n",
      "Address          0\n",
      "City             0\n",
      "Region           0\n",
      "PostalCode       1\n",
      "Country          0\n",
      "Phone            0\n",
      "Fax             22\n",
      "dtype: int64\n",
      "\n",
      "\n",
      "----------------------------------------------------------------------------------------------------\n",
      "\n",
      "CustomerCustomerDemo\n",
      "\n",
      "2019-06-23 19:06:05,107 INFO sqlalchemy.engine.base.Engine SELECT * FROM [CustomerCustomerDemo]\n",
      "2019-06-23 19:06:05,108 INFO sqlalchemy.engine.base.Engine ()\n",
      "Id                0\n",
      "CustomerTypeId    0\n",
      "dtype: int64\n",
      "\n",
      "\n",
      "----------------------------------------------------------------------------------------------------\n",
      "\n",
      "CustomerDemographic\n",
      "\n",
      "2019-06-23 19:06:05,111 INFO sqlalchemy.engine.base.Engine SELECT * FROM [CustomerDemographic]\n",
      "2019-06-23 19:06:05,112 INFO sqlalchemy.engine.base.Engine ()\n",
      "Id              0\n",
      "CustomerDesc    0\n",
      "dtype: int64\n",
      "\n",
      "\n",
      "----------------------------------------------------------------------------------------------------\n",
      "\n",
      "Employee\n",
      "\n",
      "2019-06-23 19:06:05,116 INFO sqlalchemy.engine.base.Engine SELECT * FROM [Employee]\n",
      "2019-06-23 19:06:05,116 INFO sqlalchemy.engine.base.Engine ()\n",
      "Id                 0\n",
      "LastName           0\n",
      "FirstName          0\n",
      "Title              0\n",
      "TitleOfCourtesy    0\n",
      "BirthDate          0\n",
      "HireDate           0\n",
      "Address            0\n",
      "City               0\n",
      "Region             0\n",
      "PostalCode         0\n",
      "Country            0\n",
      "HomePhone          0\n",
      "Extension          0\n",
      "Photo              9\n",
      "Notes              0\n",
      "ReportsTo          1\n",
      "PhotoPath          0\n",
      "dtype: int64\n",
      "\n",
      "\n",
      "----------------------------------------------------------------------------------------------------\n",
      "\n",
      "EmployeeTerritory\n",
      "\n",
      "2019-06-23 19:06:05,121 INFO sqlalchemy.engine.base.Engine SELECT * FROM [EmployeeTerritory]\n",
      "2019-06-23 19:06:05,122 INFO sqlalchemy.engine.base.Engine ()\n",
      "Id             0\n",
      "EmployeeId     0\n",
      "TerritoryId    0\n",
      "dtype: int64\n",
      "\n",
      "\n",
      "----------------------------------------------------------------------------------------------------\n",
      "\n",
      "Order\n",
      "\n",
      "2019-06-23 19:06:05,125 INFO sqlalchemy.engine.base.Engine SELECT * FROM [Order]\n",
      "2019-06-23 19:06:05,126 INFO sqlalchemy.engine.base.Engine ()\n",
      "Id                 0\n",
      "CustomerId         0\n",
      "EmployeeId         0\n",
      "OrderDate          0\n",
      "RequiredDate       0\n",
      "ShippedDate       21\n",
      "ShipVia            0\n",
      "Freight            0\n",
      "ShipName           0\n",
      "ShipAddress        0\n",
      "ShipCity           0\n",
      "ShipRegion         0\n",
      "ShipPostalCode    19\n",
      "ShipCountry        0\n",
      "dtype: int64\n",
      "\n",
      "\n",
      "----------------------------------------------------------------------------------------------------\n",
      "\n",
      "OrderDetail\n",
      "\n",
      "2019-06-23 19:06:05,138 INFO sqlalchemy.engine.base.Engine SELECT * FROM [OrderDetail]\n",
      "2019-06-23 19:06:05,138 INFO sqlalchemy.engine.base.Engine ()\n",
      "Id           0\n",
      "OrderId      0\n",
      "ProductId    0\n",
      "UnitPrice    0\n",
      "Quantity     0\n",
      "Discount     0\n",
      "dtype: int64\n",
      "\n",
      "\n",
      "----------------------------------------------------------------------------------------------------\n",
      "\n",
      "Product\n",
      "\n",
      "2019-06-23 19:06:05,153 INFO sqlalchemy.engine.base.Engine SELECT * FROM [Product]\n",
      "2019-06-23 19:06:05,153 INFO sqlalchemy.engine.base.Engine ()\n",
      "Id                 0\n",
      "ProductName        0\n",
      "SupplierId         0\n",
      "CategoryId         0\n",
      "QuantityPerUnit    0\n",
      "UnitPrice          0\n",
      "UnitsInStock       0\n",
      "UnitsOnOrder       0\n",
      "ReorderLevel       0\n",
      "Discontinued       0\n",
      "dtype: int64\n",
      "\n",
      "\n",
      "----------------------------------------------------------------------------------------------------\n",
      "\n",
      "Region\n",
      "\n",
      "2019-06-23 19:06:05,158 INFO sqlalchemy.engine.base.Engine SELECT * FROM [Region]\n",
      "2019-06-23 19:06:05,158 INFO sqlalchemy.engine.base.Engine ()\n",
      "Id                   0\n",
      "RegionDescription    0\n",
      "dtype: int64\n",
      "\n",
      "\n",
      "----------------------------------------------------------------------------------------------------\n",
      "\n",
      "Shipper\n",
      "\n",
      "2019-06-23 19:06:05,163 INFO sqlalchemy.engine.base.Engine SELECT * FROM [Shipper]\n",
      "2019-06-23 19:06:05,164 INFO sqlalchemy.engine.base.Engine ()\n",
      "Id             0\n",
      "CompanyName    0\n",
      "Phone          0\n",
      "dtype: int64\n",
      "\n",
      "\n",
      "----------------------------------------------------------------------------------------------------\n",
      "\n",
      "Supplier\n",
      "\n",
      "2019-06-23 19:06:05,168 INFO sqlalchemy.engine.base.Engine SELECT * FROM [Supplier]\n",
      "2019-06-23 19:06:05,169 INFO sqlalchemy.engine.base.Engine ()\n",
      "Id               0\n",
      "CompanyName      0\n",
      "ContactName      0\n",
      "ContactTitle     0\n",
      "Address          0\n",
      "City             0\n",
      "Region           0\n",
      "PostalCode       0\n",
      "Country          0\n",
      "Phone            0\n",
      "Fax             16\n",
      "HomePage        24\n",
      "dtype: int64\n",
      "\n",
      "\n",
      "----------------------------------------------------------------------------------------------------\n",
      "\n",
      "Territory\n",
      "\n",
      "2019-06-23 19:06:05,176 INFO sqlalchemy.engine.base.Engine SELECT * FROM [Territory]\n",
      "2019-06-23 19:06:05,176 INFO sqlalchemy.engine.base.Engine ()\n",
      "Id                      0\n",
      "TerritoryDescription    0\n",
      "RegionId                0\n",
      "dtype: int64\n",
      "\n",
      "\n",
      "----------------------------------------------------------------------------------------------------\n",
      "\n"
     ]
    }
   ],
   "source": [
    "for table in table_name_list:\n",
    "    print(table + \"\\n\")\n",
    "    print(null_val_check(table))\n",
    "    print(\"\\n\")\n",
    "    print(\"-\"*100 + \"\\n\")"
   ]
  },
  {
   "cell_type": "markdown",
   "metadata": {},
   "source": [
    "#### Results of the Isna().sum() check:\n",
    "\n",
    "#### Customer\n",
    "* PostalCode has 1 missing.\n",
    "* Fax has 22 missing.\n",
    "\n",
    "#### Employee\n",
    "\n",
    "* Photo has 9 missing.\n",
    "* ReportsTo has 1 missing.\n",
    "\n",
    "#### Order\n",
    "\n",
    "* ShippedData has 21 missing.\n",
    "* ShipPostalCode has 19 missing.\n",
    "\n",
    "#### Supplier\n",
    "\n",
    "* Fax has 16 missing.\n",
    "\n",
    "* Homepage has 24 missing.\n"
   ]
  },
  {
   "cell_type": "code",
   "execution_count": 10,
   "metadata": {
    "scrolled": true
   },
   "outputs": [
    {
     "name": "stdout",
     "output_type": "stream",
     "text": [
      "2019-06-23 19:06:24,396 INFO sqlalchemy.engine.base.Engine SELECT * FROM [Category]\n",
      "2019-06-23 19:06:24,397 INFO sqlalchemy.engine.base.Engine ()\n",
      "2019-06-23 19:06:24,400 INFO sqlalchemy.engine.base.Engine SELECT * FROM [Customer]\n",
      "2019-06-23 19:06:24,400 INFO sqlalchemy.engine.base.Engine ()\n",
      "2019-06-23 19:06:24,405 INFO sqlalchemy.engine.base.Engine SELECT * FROM [CustomerCustomerDemo]\n",
      "2019-06-23 19:06:24,405 INFO sqlalchemy.engine.base.Engine ()\n",
      "2019-06-23 19:06:24,408 INFO sqlalchemy.engine.base.Engine SELECT * FROM [CustomerDemographic]\n",
      "2019-06-23 19:06:24,409 INFO sqlalchemy.engine.base.Engine ()\n",
      "2019-06-23 19:06:24,412 INFO sqlalchemy.engine.base.Engine SELECT * FROM [Employee]\n",
      "2019-06-23 19:06:24,413 INFO sqlalchemy.engine.base.Engine ()\n",
      "2019-06-23 19:06:24,417 INFO sqlalchemy.engine.base.Engine SELECT * FROM [EmployeeTerritory]\n",
      "2019-06-23 19:06:24,417 INFO sqlalchemy.engine.base.Engine ()\n",
      "2019-06-23 19:06:24,420 INFO sqlalchemy.engine.base.Engine SELECT * FROM [Order]\n",
      "2019-06-23 19:06:24,421 INFO sqlalchemy.engine.base.Engine ()\n",
      "2019-06-23 19:06:24,432 INFO sqlalchemy.engine.base.Engine SELECT * FROM [OrderDetail]\n",
      "2019-06-23 19:06:24,433 INFO sqlalchemy.engine.base.Engine ()\n",
      "2019-06-23 19:06:24,446 INFO sqlalchemy.engine.base.Engine SELECT * FROM [Product]\n",
      "2019-06-23 19:06:24,446 INFO sqlalchemy.engine.base.Engine ()\n",
      "2019-06-23 19:06:24,450 INFO sqlalchemy.engine.base.Engine SELECT * FROM [Region]\n",
      "2019-06-23 19:06:24,450 INFO sqlalchemy.engine.base.Engine ()\n",
      "2019-06-23 19:06:24,453 INFO sqlalchemy.engine.base.Engine SELECT * FROM [Shipper]\n",
      "2019-06-23 19:06:24,453 INFO sqlalchemy.engine.base.Engine ()\n",
      "2019-06-23 19:06:24,456 INFO sqlalchemy.engine.base.Engine SELECT * FROM [Supplier]\n",
      "2019-06-23 19:06:24,456 INFO sqlalchemy.engine.base.Engine ()\n",
      "2019-06-23 19:06:24,459 INFO sqlalchemy.engine.base.Engine SELECT * FROM [Territory]\n",
      "2019-06-23 19:06:24,459 INFO sqlalchemy.engine.base.Engine ()\n"
     ]
    }
   ],
   "source": [
    "df = {}\n",
    "for table in table_name_list:\n",
    "    query = \"SELECT * FROM [{}]\".format(table)\n",
    "    dfs = pd.read_sql_query(query, engine)\n",
    "    df[table] = dfs"
   ]
  },
  {
   "cell_type": "code",
   "execution_count": 11,
   "metadata": {},
   "outputs": [
    {
     "data": {
      "text/plain": [
       "Id               0\n",
       "CompanyName      0\n",
       "ContactName      0\n",
       "ContactTitle     0\n",
       "Address          0\n",
       "City             0\n",
       "Region           0\n",
       "PostalCode       1\n",
       "Country          0\n",
       "Phone            0\n",
       "Fax             22\n",
       "dtype: int64"
      ]
     },
     "execution_count": 11,
     "metadata": {},
     "output_type": "execute_result"
    }
   ],
   "source": [
    "# Used to test that the for loop above this actually created all of the tables\n",
    "df['Customer'].isna().sum()"
   ]
  },
  {
   "cell_type": "markdown",
   "metadata": {},
   "source": [
    "## Scrubbing the data"
   ]
  },
  {
   "cell_type": "markdown",
   "metadata": {},
   "source": [
    "### Cleaning up Customer Table\n",
    "\n",
    "There are two columns with missing data in Customer. Those are PostalCode and Fax. "
   ]
  },
  {
   "cell_type": "markdown",
   "metadata": {},
   "source": [
    "#### Fax Column\n",
    "\n",
    "Since this column should remain a string I will be filling the empty data with a string that will be clear that there was no fax."
   ]
  },
  {
   "cell_type": "code",
   "execution_count": 12,
   "metadata": {},
   "outputs": [],
   "source": [
    "df['Customer']['Fax'] = df['Customer']['Fax'].fillna('None Provided')"
   ]
  },
  {
   "cell_type": "code",
   "execution_count": 13,
   "metadata": {
    "scrolled": true
   },
   "outputs": [
    {
     "data": {
      "text/plain": [
       "array(['030-0076545', '(5) 555-3745', 'None Provided', '(171) 555-6750',\n",
       "       '0921-12 34 67', '0621-08924', '88.60.15.32', '(91) 555 91 99',\n",
       "       '91.24.45.41', '(604) 555-3745', '(1) 135-4892', '(5) 555-7293',\n",
       "       '(171) 555-9199', '0241-059428', '40.67.89.89', '(171) 555-3373',\n",
       "       '7675-3426', '(91) 555 55 93', '20.16.10.17', '089-0877451',\n",
       "       '40.32.21.20', '011-4988261', '(1) 354-2535', '(93) 203 4561',\n",
       "       '(2) 283-3397', '(21) 555-8765', '(5) 555-1948', '(503) 555-2376',\n",
       "       '2967 3333', '30.59.85.11', '61.77.61.11', '(604) 555-7293',\n",
       "       '(509) 555-6221', '069-0245874', '(9) 331-7256', '(8) 34-93-93',\n",
       "       '(503) 555-9646', '035-640231', '(02) 201 24 68', '(514) 555-8055',\n",
       "       '(171) 555-2530', '(1) 135-5535', '(907) 555-2880', '0221-0765721',\n",
       "       '(1) 42.34.22.77', '(5) 545-3745', '6562-9723', '(21) 555-4545',\n",
       "       '(1) 123-5556', '(505) 555-3620', '0522-556722', '(91) 745 6210',\n",
       "       '07-98 92 47', '(171) 555-5646', '31 13 35 57', '(1) 47.55.60.20',\n",
       "       '(307) 555-6525', '(071) 23 67 22 21', '(406) 555-8083',\n",
       "       '0251-035695', '(11) 555-2168', '(206) 555-2174', '86 22 33 44',\n",
       "       '78.32.54.87', '26.47.15.11', '0711-035428', '981-443655',\n",
       "       '(206) 555-4115', '90-224 8858', '(26) 642-7012'], dtype=object)"
      ]
     },
     "execution_count": 13,
     "metadata": {},
     "output_type": "execute_result"
    }
   ],
   "source": [
    "# unique_var_check(df['Fax'])\n",
    "df['Customer']['Fax'].unique()"
   ]
  },
  {
   "cell_type": "code",
   "execution_count": 14,
   "metadata": {},
   "outputs": [
    {
     "data": {
      "text/plain": [
       "0"
      ]
     },
     "execution_count": 14,
     "metadata": {},
     "output_type": "execute_result"
    }
   ],
   "source": [
    "df['Customer']['Fax'].isna().sum()"
   ]
  },
  {
   "cell_type": "markdown",
   "metadata": {},
   "source": [
    "#### PostalCode Column\n",
    "\n",
    "This one is a bit trickier in that I would probably want this column to be an integer based on American logic of postal codes but it does not work like that once we look into the unique data provided. So I will just be changing those without data to \"None provided\" like I did with Fax."
   ]
  },
  {
   "cell_type": "code",
   "execution_count": 15,
   "metadata": {
    "scrolled": true
   },
   "outputs": [],
   "source": [
    "# Used to check if variable NaN or equivalent is found\n",
    "\n",
    "# unique_var_check(df['PostalCode'])\n",
    "# df['PostalCode'].unique()"
   ]
  },
  {
   "cell_type": "code",
   "execution_count": 16,
   "metadata": {},
   "outputs": [],
   "source": [
    "df['Customer']['PostalCode'] = df['Customer']['PostalCode'].fillna(\"None provided\")"
   ]
  },
  {
   "cell_type": "code",
   "execution_count": 17,
   "metadata": {
    "scrolled": true
   },
   "outputs": [
    {
     "data": {
      "text/plain": [
       "array(['12209', '05021', '05023', 'WA1 1DP', 'S-958 22', '68306', '67000',\n",
       "       '28023', '13008', 'T2F 8M4', 'EC2 5NT', '1010', '05022', '3012',\n",
       "       '05432-043', 'WX1 6LT', '52066', '44000', 'WX3 6FW', '8010',\n",
       "       '05442-030', '28034', '59000', 'S-844 67', '80805', '10100',\n",
       "       '1675', '08022', '41101', '04876-786', '97403', '1081',\n",
       "       '05454-876', '5022', '97827', 'None provided', 'PO31 7PJ', '14776',\n",
       "       '78000', '31000', 'V3F 2K1', '99362', '60528', '94117', '3508',\n",
       "       '4980', '97219', '24100', 'B-1180', 'H1J 1C3', '04179', 'SW7 1RZ',\n",
       "       '99508', '50739', '75012', '05033', '5020', '1756', '02389-673',\n",
       "       '05487-020', '01307', '87110', '42100', '02389-890', '1203',\n",
       "       '28001', '4110', '83720', 'OX15 4NB', '1734', '75016', '82520',\n",
       "       'B-6000', '97201', '59801', '44087', '05634-030', '98034', '8200',\n",
       "       '69004', '51100', '70563', '90110', '08737-363', '98128', '21240',\n",
       "       '01-012'], dtype=object)"
      ]
     },
     "execution_count": 17,
     "metadata": {},
     "output_type": "execute_result"
    }
   ],
   "source": [
    "# unique_var_check(df['PostalCode'])\n",
    "df['Customer']['PostalCode'].unique()"
   ]
  },
  {
   "cell_type": "code",
   "execution_count": 18,
   "metadata": {},
   "outputs": [
    {
     "data": {
      "text/plain": [
       "0"
      ]
     },
     "execution_count": 18,
     "metadata": {},
     "output_type": "execute_result"
    }
   ],
   "source": [
    "df['Customer']['PostalCode'].isna().sum()"
   ]
  },
  {
   "cell_type": "markdown",
   "metadata": {},
   "source": [
    "### Cleaning up Employee Table\n",
    "\n",
    "There are two columns with null values in the Employee Table and those are Photo and ReportsTo."
   ]
  },
  {
   "cell_type": "markdown",
   "metadata": {},
   "source": [
    "#### Photo Column\n",
    "\n",
    "Nobody in the company has a photo listed so there are just 9 columns of employees who have no photo. Typically it would be smart to remove this column but there is no data to be gained from it whether I keep it in or not. So I will keep it in and change the Null values to a string. "
   ]
  },
  {
   "cell_type": "code",
   "execution_count": 19,
   "metadata": {},
   "outputs": [],
   "source": [
    "df['Employee']['Photo'] = df['Employee']['Photo'].fillna(\"None provided\")"
   ]
  },
  {
   "cell_type": "code",
   "execution_count": 20,
   "metadata": {},
   "outputs": [
    {
     "data": {
      "text/plain": [
       "array(['None provided'], dtype=object)"
      ]
     },
     "execution_count": 20,
     "metadata": {},
     "output_type": "execute_result"
    }
   ],
   "source": [
    "# unique_var_check(df['Photo'])\n",
    "df['Employee']['Photo'].unique()"
   ]
  },
  {
   "cell_type": "code",
   "execution_count": 21,
   "metadata": {},
   "outputs": [
    {
     "data": {
      "text/plain": [
       "0"
      ]
     },
     "execution_count": 21,
     "metadata": {},
     "output_type": "execute_result"
    }
   ],
   "source": [
    "df['Employee']['Photo'].isna().sum()"
   ]
  },
  {
   "cell_type": "markdown",
   "metadata": {},
   "source": [
    "#### ReportsTo Column\n",
    "\n",
    "This column was a bit trickier to do so I took a look at the results of the column and saw that it just did not list something for the ID 1. I went ahead and looked into it and found that this was the Vice President so I just listed it as reports to 1.0 since it seems like ID 2 reports to themself that it may be the same for this person."
   ]
  },
  {
   "cell_type": "code",
   "execution_count": 22,
   "metadata": {},
   "outputs": [
    {
     "data": {
      "text/plain": [
       "array([ 2., nan,  5.])"
      ]
     },
     "execution_count": 22,
     "metadata": {},
     "output_type": "execute_result"
    }
   ],
   "source": [
    "# Used to check variables beforehand\n",
    "df['Employee']['ReportsTo'].unique()"
   ]
  },
  {
   "cell_type": "code",
   "execution_count": 23,
   "metadata": {},
   "outputs": [
    {
     "data": {
      "text/plain": [
       "0    2.0\n",
       "1    NaN\n",
       "2    2.0\n",
       "3    2.0\n",
       "4    2.0\n",
       "5    5.0\n",
       "6    5.0\n",
       "7    2.0\n",
       "8    5.0\n",
       "Name: ReportsTo, dtype: float64"
      ]
     },
     "execution_count": 23,
     "metadata": {},
     "output_type": "execute_result"
    }
   ],
   "source": [
    "df['Employee']['ReportsTo']"
   ]
  },
  {
   "cell_type": "code",
   "execution_count": 24,
   "metadata": {},
   "outputs": [],
   "source": [
    "df['Employee']['ReportsTo'] = df['Employee']['ReportsTo'].fillna(\"1.0\")"
   ]
  },
  {
   "cell_type": "code",
   "execution_count": 25,
   "metadata": {},
   "outputs": [
    {
     "data": {
      "text/plain": [
       "array([2.0, '1.0', 5.0], dtype=object)"
      ]
     },
     "execution_count": 25,
     "metadata": {},
     "output_type": "execute_result"
    }
   ],
   "source": [
    "# unique_var_check(df['ReportsTo'])\n",
    "df['Employee']['ReportsTo'].unique()"
   ]
  },
  {
   "cell_type": "code",
   "execution_count": 26,
   "metadata": {},
   "outputs": [
    {
     "data": {
      "text/plain": [
       "0"
      ]
     },
     "execution_count": 26,
     "metadata": {},
     "output_type": "execute_result"
    }
   ],
   "source": [
    "df['Employee']['ReportsTo'].isna().sum()"
   ]
  },
  {
   "cell_type": "markdown",
   "metadata": {},
   "source": [
    "### Cleaning up Order Table\n",
    "\n",
    "The columns in question that need cleaning are ShippedDate and ShipPostalCode."
   ]
  },
  {
   "cell_type": "markdown",
   "metadata": {},
   "source": [
    "#### ShippedDate Column\n",
    "\n",
    "This one is pretty cut and dry. If there is not a date provided then it should state tha."
   ]
  },
  {
   "cell_type": "code",
   "execution_count": 27,
   "metadata": {},
   "outputs": [],
   "source": [
    "df['Order']['ShippedDate'] = df['Order']['ShippedDate'].fillna(\"No date provided\")"
   ]
  },
  {
   "cell_type": "code",
   "execution_count": 28,
   "metadata": {
    "scrolled": true
   },
   "outputs": [
    {
     "data": {
      "text/plain": [
       "array(['2012-07-16', '2012-07-10', '2012-07-12', '2012-07-15',\n",
       "       '2012-07-11', '2012-07-23', '2012-07-17', '2012-07-22',\n",
       "       '2012-07-25', '2012-07-29', '2012-07-30', '2012-07-31',\n",
       "       '2012-08-23', '2012-08-12', '2012-08-06', '2012-08-02',\n",
       "       '2012-08-09', '2012-08-30', '2012-08-16', '2012-08-14',\n",
       "       '2012-08-13', '2012-09-12', '2012-08-21', '2012-08-27',\n",
       "       '2012-08-26', '2012-08-28', '2012-09-03', '2012-09-04',\n",
       "       '2012-09-02', '2012-09-11', '2012-09-05', '2012-09-10',\n",
       "       '2012-09-13', '2012-09-18', '2012-09-17', '2012-10-09',\n",
       "       '2012-09-23', '2012-09-25', '2012-09-24', '2012-10-23',\n",
       "       '2012-09-27', '2012-09-26', '2012-10-03', '2012-10-04',\n",
       "       '2012-10-08', '2012-10-10', '2012-10-11', '2012-10-18',\n",
       "       '2012-10-14', '2012-10-17', '2012-10-28', '2012-10-21',\n",
       "       '2012-10-25', '2012-10-24', '2012-10-29', '2012-11-04',\n",
       "       '2012-11-08', '2012-11-05', '2012-11-06', '2012-11-11',\n",
       "       '2012-11-15', '2012-12-03', '2012-11-20', '2012-11-18',\n",
       "       '2012-11-25', '2012-11-27', '2012-12-02', '2012-11-26',\n",
       "       '2012-11-28', '2012-12-04', '2012-12-30', '2012-12-09',\n",
       "       '2012-12-27', '2012-12-24', '2012-12-11', '2012-12-13',\n",
       "       '2012-12-19', '2013-01-16', '2012-12-16', '2012-12-18',\n",
       "       '2012-12-20', '2012-12-23', '2012-12-25', '2012-12-26',\n",
       "       '2012-12-31', '2013-01-01', '2013-01-03', '2013-01-06',\n",
       "       '2013-01-02', '2013-01-09', '2013-01-08', '2013-01-10',\n",
       "       '2013-01-22', '2013-01-13', '2013-01-30', '2013-01-14',\n",
       "       '2013-01-15', '2013-01-21', '2013-01-17', '2013-01-24',\n",
       "       '2013-01-27', '2013-01-28', '2013-01-31', '2013-02-24',\n",
       "       '2013-02-14', '2013-02-06', '2013-03-03', '2013-02-04',\n",
       "       '2013-02-07', '2013-02-03', '2013-03-04', '2013-02-13',\n",
       "       '2013-02-11', '2013-02-12', '2013-02-10', '2013-02-28',\n",
       "       '2013-03-14', '2013-02-18', '2013-02-21', '2013-02-20',\n",
       "       '2013-02-19', '2013-03-07', '2013-02-27', '2013-03-11',\n",
       "       '2013-03-12', '2013-02-26', '2013-02-25', '2013-03-05',\n",
       "       '2013-03-18', '2013-03-06', '2013-03-13', '2013-03-19',\n",
       "       '2013-03-21', '2013-04-04', '2013-03-24', '2013-03-25',\n",
       "       '2013-03-26', '2013-04-10', '2013-04-25', '2013-04-01',\n",
       "       '2013-03-31', '2013-04-02', '2013-03-28', '2013-04-09',\n",
       "       '2013-04-03', '2013-04-08', '2013-04-11', '2013-04-07',\n",
       "       '2013-04-16', '2013-04-17', '2013-04-29', '2013-04-18',\n",
       "       '2013-04-21', '2013-05-02', '2013-04-22', '2013-05-13',\n",
       "       '2013-04-28', '2013-04-24', '2013-05-16', '2013-05-23',\n",
       "       '2013-05-01', '2013-05-05', '2013-05-06', '2013-05-30',\n",
       "       '2013-05-07', '2013-05-15', '2013-05-09', '2013-05-12',\n",
       "       '2013-05-19', '2013-05-22', '2013-05-14', '2013-05-21',\n",
       "       '2013-06-06', '2013-06-13', '2013-05-29', '2013-05-26',\n",
       "       '2013-06-26', '2013-05-27', '2013-06-02', '2013-06-05',\n",
       "       '2013-06-03', '2013-06-04', '2013-06-10', '2013-06-09',\n",
       "       '2013-06-12', '2013-06-24', '2013-06-16', '2013-06-18',\n",
       "       '2013-06-17', '2013-07-09', '2013-07-11', '2013-06-19',\n",
       "       '2013-07-04', '2013-06-25', '2013-06-20', '2013-06-30',\n",
       "       '2013-07-25', '2013-07-01', '2013-07-02', '2013-07-14',\n",
       "       '2013-07-10', '2013-07-16', '2013-08-13', '2013-08-12',\n",
       "       '2013-07-18', '2013-07-21', '2013-07-22', '2013-08-08',\n",
       "       '2013-07-29', '2013-07-31', '2013-08-01', '2013-07-30',\n",
       "       '2013-08-06', '2013-08-05', '2013-08-04', '2013-08-07',\n",
       "       '2013-08-14', '2013-08-11', '2013-08-19', '2013-08-20',\n",
       "       '2013-08-21', '2013-08-15', '2013-08-18', '2013-08-26',\n",
       "       '2013-09-01', '2013-08-27', '2013-08-28', '2013-09-05',\n",
       "       '2013-09-02', '2013-09-03', '2013-09-09', '2013-08-29',\n",
       "       '2013-09-11', '2013-09-08', '2013-09-19', '2013-09-10',\n",
       "       '2013-09-15', '2013-10-15', '2013-09-18', '2013-10-03',\n",
       "       '2013-09-17', '2013-09-22', '2013-09-23', '2013-09-24',\n",
       "       '2013-09-26', '2013-09-30', '2013-09-29', '2013-10-16',\n",
       "       '2013-10-01', '2013-10-08', '2013-10-30', '2013-10-07',\n",
       "       '2013-10-22', '2013-10-13', '2013-10-10', '2013-10-09',\n",
       "       '2013-10-14', '2013-10-17', '2013-10-21', '2013-10-20',\n",
       "       '2013-11-07', '2013-11-18', '2013-10-23', '2013-11-05',\n",
       "       '2013-11-20', '2013-10-29', '2013-10-31', '2013-10-24',\n",
       "       '2013-10-27', '2013-11-04', '2013-11-25', '2013-12-05',\n",
       "       '2013-11-11', '2013-11-14', '2013-11-10', '2013-11-12',\n",
       "       '2013-11-21', '2013-11-17', '2013-11-24', '2013-11-27',\n",
       "       '2013-11-26', '2013-11-28', '2013-12-19', '2013-12-03',\n",
       "       '2013-12-02', '2013-12-15', '2013-12-04', '2013-12-12',\n",
       "       '2013-12-10', '2013-12-08', '2013-12-09', '2013-12-17',\n",
       "       '2014-01-02', '2013-12-16', '2013-12-26', '2013-12-18',\n",
       "       '2014-01-21', '2013-12-24', '2014-01-14', '2013-12-25',\n",
       "       '2013-12-22', '2013-12-23', '2014-01-19', '2013-12-31',\n",
       "       '2014-01-01', '2014-01-08', '2014-01-20', '2014-01-05',\n",
       "       '2014-01-06', '2014-01-07', '2014-01-09', '2014-01-30',\n",
       "       '2014-01-12', '2014-02-04', '2014-01-13', '2014-01-16',\n",
       "       '2014-01-15', '2014-02-06', '2014-01-23', '2014-01-22',\n",
       "       '2014-02-16', '2014-01-29', '2014-01-26', '2014-02-10',\n",
       "       '2014-02-02', '2014-02-03', '2014-02-05', '2014-02-17',\n",
       "       '2014-02-09', '2014-02-12', '2014-02-11', '2014-02-23',\n",
       "       '2014-02-13', '2014-03-03', '2014-02-19', '2014-02-18',\n",
       "       '2014-02-20', '2014-03-02', '2014-02-27', '2014-02-25',\n",
       "       '2014-03-06', '2014-02-26', '2014-03-04', '2014-03-10',\n",
       "       '2014-03-05', '2014-03-18', '2014-03-09', '2014-03-11',\n",
       "       '2014-03-13', '2014-04-08', '2014-03-12', '2014-03-19',\n",
       "       '2014-03-24', '2014-03-16', '2014-03-23', '2014-03-20',\n",
       "       '2014-03-17', '2014-04-07', '2014-03-25', '2014-03-27',\n",
       "       '2014-03-30', '2014-03-26', '2014-04-02', '2014-04-01',\n",
       "       '2014-04-24', '2014-04-03', '2014-04-10', '2014-04-23',\n",
       "       '2014-03-31', '2014-04-17', '2014-04-06', '2014-04-21',\n",
       "       '2014-04-09', '2014-04-13', '2014-04-14', '2014-04-16',\n",
       "       '2014-04-20', '2014-04-15', 'No date provided', '2014-05-04',\n",
       "       '2014-04-28', '2014-04-22', '2014-04-27', '2014-04-30',\n",
       "       '2014-05-01', '2014-04-29', '2014-05-05', '2014-05-06'],\n",
       "      dtype=object)"
      ]
     },
     "execution_count": 28,
     "metadata": {},
     "output_type": "execute_result"
    }
   ],
   "source": [
    "df['Order']['ShippedDate'].unique()"
   ]
  },
  {
   "cell_type": "code",
   "execution_count": 29,
   "metadata": {
    "scrolled": true
   },
   "outputs": [
    {
     "data": {
      "text/plain": [
       "0"
      ]
     },
     "execution_count": 29,
     "metadata": {},
     "output_type": "execute_result"
    }
   ],
   "source": [
    "df['Order']['ShippedDate'].isna().sum()"
   ]
  },
  {
   "cell_type": "markdown",
   "metadata": {},
   "source": [
    "#### ShipPostalCode Column\n",
    "\n",
    "Same as the ShippedDate column, it should list that there is no postal code provided. I originally was also going to be changing this column to be an integer column but after checking it I realized that this was a very clear American ideal that zipcodes are just numbers. But in reality there are many places where zipcodes are not."
   ]
  },
  {
   "cell_type": "code",
   "execution_count": 30,
   "metadata": {},
   "outputs": [],
   "source": [
    "df['Order']['ShipPostalCode'] = df['Order']['ShipPostalCode'].fillna('No postal code provided')"
   ]
  },
  {
   "cell_type": "code",
   "execution_count": 31,
   "metadata": {
    "scrolled": true
   },
   "outputs": [
    {
     "data": {
      "text/plain": [
       "array(['51100', '44087', '05454-876', '69004', 'B-6000', '3012', '1204',\n",
       "       '08737-363', '5022', '8010', '05022', '50739', '02389-673',\n",
       "       '87110', 'S-844 67', '67000', '90110', '80805', '1081', '98124',\n",
       "       '82520', '01307', '24100', '05033', '04179', 'S-958 22', '60528',\n",
       "       '28001', '3508', '02389-890', '42100', 'EC2 5NT', '05432-043',\n",
       "       '05634-030', 'No postal code provided', '70563', '41101', '99508',\n",
       "       '97219', '05021', '97201', '44000', 'PO31 7PJ', '14776', '83720',\n",
       "       '28023', '1675', '13008', 'H1J 1C3', '1756', '1734', '05442-030',\n",
       "       '31000', '5020', 'CO7 6JX', 'OX15 4NB', '52066', 'WX3 6FW',\n",
       "       '05023', '8022', '8200', '05487-020', '01-012', '97827', '4110',\n",
       "       'T2F 8M4', '4980', '59000', '1010', '10100', '04876-786',\n",
       "       'WX1 6LT', '99362', 'V3F 2K1', '68306', 'SW7 1RZ', '97403',\n",
       "       'B-1180', '98034', '94117', '21240', '59801', '12209', '75016',\n",
       "       '78000'], dtype=object)"
      ]
     },
     "execution_count": 31,
     "metadata": {},
     "output_type": "execute_result"
    }
   ],
   "source": [
    "# unique_var_check(df['ShipPostalCode'])\n",
    "df['Order']['ShipPostalCode'].unique()"
   ]
  },
  {
   "cell_type": "code",
   "execution_count": 32,
   "metadata": {},
   "outputs": [
    {
     "data": {
      "text/plain": [
       "0"
      ]
     },
     "execution_count": 32,
     "metadata": {},
     "output_type": "execute_result"
    }
   ],
   "source": [
    "df['Order']['ShipPostalCode'].isna().sum()"
   ]
  },
  {
   "cell_type": "markdown",
   "metadata": {},
   "source": [
    "### Cleaning up Supplier Table\n",
    "\n",
    "\n",
    "This columnn was pretty easy to clean up as well. The two that were missing values were Fax and HomePage which coul just be filled with placeholder values stating that there were none provided."
   ]
  },
  {
   "cell_type": "markdown",
   "metadata": {},
   "source": [
    "#### Fax Column"
   ]
  },
  {
   "cell_type": "code",
   "execution_count": 33,
   "metadata": {},
   "outputs": [],
   "source": [
    "df['Supplier']['Fax'] = df['Supplier']['Fax'].fillna('No fax provided')"
   ]
  },
  {
   "cell_type": "code",
   "execution_count": 34,
   "metadata": {},
   "outputs": [
    {
     "data": {
      "text/plain": [
       "array(['No fax provided', '(313) 555-3349', '(03) 444-6588',\n",
       "       '031-987 65 91', '(04721) 8714', '(0544) 60603', '(1) 03.83.00.62',\n",
       "       '(617) 555-3389', '43844115', '(12345) 1210', '(02) 555-4873',\n",
       "       '(089) 6547667', '38.76.98.58', '(514) 555-2921'], dtype=object)"
      ]
     },
     "execution_count": 34,
     "metadata": {},
     "output_type": "execute_result"
    }
   ],
   "source": [
    "df['Supplier']['Fax'].unique()"
   ]
  },
  {
   "cell_type": "code",
   "execution_count": 35,
   "metadata": {},
   "outputs": [
    {
     "data": {
      "text/plain": [
       "0"
      ]
     },
     "execution_count": 35,
     "metadata": {},
     "output_type": "execute_result"
    }
   ],
   "source": [
    "df['Supplier']['Fax'].isna().sum()"
   ]
  },
  {
   "cell_type": "markdown",
   "metadata": {},
   "source": [
    "#### Homepage Column"
   ]
  },
  {
   "cell_type": "code",
   "execution_count": 36,
   "metadata": {},
   "outputs": [],
   "source": [
    "df['Supplier']['HomePage'] = df['Supplier']['HomePage'].fillna('No homepage provided')"
   ]
  },
  {
   "cell_type": "code",
   "execution_count": 37,
   "metadata": {},
   "outputs": [
    {
     "data": {
      "text/plain": [
       "array(['No homepage provided', '#CAJUN.HTM#',\n",
       "       \"Mayumi's (on the World Wide Web)#http://www.microsoft.com/accessdev/sampleapps/mayumi.htm#\",\n",
       "       'Plutzer (on the World Wide Web)#http://www.microsoft.com/accessdev/sampleapps/plutzer.htm#',\n",
       "       '#FORMAGGI.HTM#',\n",
       "       \"G'day Mate (on the World Wide Web)#http://www.microsoft.com/accessdev/sampleapps/gdaymate.htm#\"],\n",
       "      dtype=object)"
      ]
     },
     "execution_count": 37,
     "metadata": {},
     "output_type": "execute_result"
    }
   ],
   "source": [
    "# unique_var_check(df['HomePage'])\n",
    "df['Supplier']['HomePage'].unique()"
   ]
  },
  {
   "cell_type": "code",
   "execution_count": 38,
   "metadata": {
    "scrolled": false
   },
   "outputs": [
    {
     "data": {
      "text/plain": [
       "0"
      ]
     },
     "execution_count": 38,
     "metadata": {},
     "output_type": "execute_result"
    }
   ],
   "source": [
    "df['Supplier']['HomePage'].isna().sum()"
   ]
  },
  {
   "cell_type": "markdown",
   "metadata": {},
   "source": [
    "### Post Cleaning Thoughts\n",
    "\n",
    "Well first and foremost, most of the columns if not all of the columns that were cleaned up have no pertinennt information for the questions below. The answers were more for categorical data fixing. But for the sake of making sure that everything is in order I decided to leave in the cleaning just in case a revisit to the dataset makes it so I need to have it cleaned to use. "
   ]
  },
  {
   "cell_type": "markdown",
   "metadata": {},
   "source": [
    "# Question_Asked\n",
    "\n",
    "* Do discounts have a statistically significant effect on the number of products customers order? If so, at what level(s) of discount?\n",
    "    * What are the options?\n",
    "        * H0: $\\mu_1 = \\mu_2 = ... \\mu_k$\n",
    "        * HA: $\\mu_1 \\neg \\mu_2$"
   ]
  },
  {
   "cell_type": "markdown",
   "metadata": {},
   "source": [
    "First and foremost we'll pull the dataframe and change the name to be easier in code. I intentionally add more than I need so that I can play around with the dataset then I remove them in the section below this one. "
   ]
  },
  {
   "cell_type": "code",
   "execution_count": 39,
   "metadata": {
    "scrolled": true
   },
   "outputs": [
    {
     "data": {
      "text/html": [
       "<div>\n",
       "<style scoped>\n",
       "    .dataframe tbody tr th:only-of-type {\n",
       "        vertical-align: middle;\n",
       "    }\n",
       "\n",
       "    .dataframe tbody tr th {\n",
       "        vertical-align: top;\n",
       "    }\n",
       "\n",
       "    .dataframe thead th {\n",
       "        text-align: right;\n",
       "    }\n",
       "</style>\n",
       "<table border=\"1\" class=\"dataframe\">\n",
       "  <thead>\n",
       "    <tr style=\"text-align: right;\">\n",
       "      <th></th>\n",
       "      <th>Id</th>\n",
       "      <th>OrderId</th>\n",
       "      <th>ProductId</th>\n",
       "      <th>UnitPrice</th>\n",
       "      <th>Quantity</th>\n",
       "      <th>Discount</th>\n",
       "    </tr>\n",
       "  </thead>\n",
       "  <tbody>\n",
       "    <tr>\n",
       "      <th>0</th>\n",
       "      <td>10248/11</td>\n",
       "      <td>10248</td>\n",
       "      <td>11</td>\n",
       "      <td>14.0</td>\n",
       "      <td>12</td>\n",
       "      <td>0.0</td>\n",
       "    </tr>\n",
       "    <tr>\n",
       "      <th>1</th>\n",
       "      <td>10248/42</td>\n",
       "      <td>10248</td>\n",
       "      <td>42</td>\n",
       "      <td>9.8</td>\n",
       "      <td>10</td>\n",
       "      <td>0.0</td>\n",
       "    </tr>\n",
       "    <tr>\n",
       "      <th>2</th>\n",
       "      <td>10248/72</td>\n",
       "      <td>10248</td>\n",
       "      <td>72</td>\n",
       "      <td>34.8</td>\n",
       "      <td>5</td>\n",
       "      <td>0.0</td>\n",
       "    </tr>\n",
       "    <tr>\n",
       "      <th>3</th>\n",
       "      <td>10249/14</td>\n",
       "      <td>10249</td>\n",
       "      <td>14</td>\n",
       "      <td>18.6</td>\n",
       "      <td>9</td>\n",
       "      <td>0.0</td>\n",
       "    </tr>\n",
       "    <tr>\n",
       "      <th>4</th>\n",
       "      <td>10249/51</td>\n",
       "      <td>10249</td>\n",
       "      <td>51</td>\n",
       "      <td>42.4</td>\n",
       "      <td>40</td>\n",
       "      <td>0.0</td>\n",
       "    </tr>\n",
       "  </tbody>\n",
       "</table>\n",
       "</div>"
      ],
      "text/plain": [
       "         Id  OrderId  ProductId  UnitPrice  Quantity  Discount\n",
       "0  10248/11    10248         11       14.0        12       0.0\n",
       "1  10248/42    10248         42        9.8        10       0.0\n",
       "2  10248/72    10248         72       34.8         5       0.0\n",
       "3  10249/14    10249         14       18.6         9       0.0\n",
       "4  10249/51    10249         51       42.4        40       0.0"
      ]
     },
     "execution_count": 39,
     "metadata": {},
     "output_type": "execute_result"
    }
   ],
   "source": [
    "df0 = df['OrderDetail'].copy()\n",
    "df0.head()"
   ]
  },
  {
   "cell_type": "code",
   "execution_count": 40,
   "metadata": {
    "scrolled": true
   },
   "outputs": [],
   "source": [
    "df0.drop(['ProductId', 'UnitPrice', 'Id'], axis=1, inplace=True)\n",
    "df0 = df0.groupby(['Discount', 'OrderId'])['Quantity'].sum().reset_index()\n",
    "# df0\n",
    "# df3 = df3.groupby(['Region', 'OrderId'])['price_per_order'].sum().reset_index()"
   ]
  },
  {
   "cell_type": "markdown",
   "metadata": {},
   "source": [
    "Next thing we do is to add up each of the items based on discount grouping. We have quite a few groups that are just too low to really help at all with the data. We could theoretically group those with other discount rates but I want to keep them as true as possible so I will drop them from the dataset altogether. "
   ]
  },
  {
   "cell_type": "code",
   "execution_count": 41,
   "metadata": {},
   "outputs": [
    {
     "data": {
      "text/html": [
       "<div>\n",
       "<style scoped>\n",
       "    .dataframe tbody tr th:only-of-type {\n",
       "        vertical-align: middle;\n",
       "    }\n",
       "\n",
       "    .dataframe tbody tr th {\n",
       "        vertical-align: top;\n",
       "    }\n",
       "\n",
       "    .dataframe thead th {\n",
       "        text-align: right;\n",
       "    }\n",
       "</style>\n",
       "<table border=\"1\" class=\"dataframe\">\n",
       "  <thead>\n",
       "    <tr style=\"text-align: right;\">\n",
       "      <th></th>\n",
       "      <th>Quantity</th>\n",
       "    </tr>\n",
       "    <tr>\n",
       "      <th>Discount</th>\n",
       "      <th></th>\n",
       "    </tr>\n",
       "  </thead>\n",
       "  <tbody>\n",
       "    <tr>\n",
       "      <th>0.00</th>\n",
       "      <td>613</td>\n",
       "    </tr>\n",
       "    <tr>\n",
       "      <th>0.01</th>\n",
       "      <td>1</td>\n",
       "    </tr>\n",
       "    <tr>\n",
       "      <th>0.02</th>\n",
       "      <td>1</td>\n",
       "    </tr>\n",
       "    <tr>\n",
       "      <th>0.03</th>\n",
       "      <td>1</td>\n",
       "    </tr>\n",
       "    <tr>\n",
       "      <th>0.04</th>\n",
       "      <td>1</td>\n",
       "    </tr>\n",
       "    <tr>\n",
       "      <th>0.05</th>\n",
       "      <td>87</td>\n",
       "    </tr>\n",
       "    <tr>\n",
       "      <th>0.06</th>\n",
       "      <td>1</td>\n",
       "    </tr>\n",
       "    <tr>\n",
       "      <th>0.10</th>\n",
       "      <td>75</td>\n",
       "    </tr>\n",
       "    <tr>\n",
       "      <th>0.15</th>\n",
       "      <td>75</td>\n",
       "    </tr>\n",
       "    <tr>\n",
       "      <th>0.20</th>\n",
       "      <td>73</td>\n",
       "    </tr>\n",
       "    <tr>\n",
       "      <th>0.25</th>\n",
       "      <td>72</td>\n",
       "    </tr>\n",
       "  </tbody>\n",
       "</table>\n",
       "</div>"
      ],
      "text/plain": [
       "          Quantity\n",
       "Discount          \n",
       "0.00           613\n",
       "0.01             1\n",
       "0.02             1\n",
       "0.03             1\n",
       "0.04             1\n",
       "0.05            87\n",
       "0.06             1\n",
       "0.10            75\n",
       "0.15            75\n",
       "0.20            73\n",
       "0.25            72"
      ]
     },
     "execution_count": 41,
     "metadata": {},
     "output_type": "execute_result"
    }
   ],
   "source": [
    "df0.drop(['OrderId'], axis=1, inplace=True)\n",
    "df0.groupby('Discount').count()"
   ]
  },
  {
   "cell_type": "code",
   "execution_count": 42,
   "metadata": {},
   "outputs": [],
   "source": [
    "# df0.loc[df0.Discount == 0.01, 'Discount']\n",
    "# df0.loc[df0.Discount == 0.02, 'Discount']\n",
    "# df0.loc[df0.Discount == 0.03, 'Discount']\n",
    "# df0.loc[df0.Discount == 0.04, 'Discount']\n",
    "# df0.loc[df0.Discount == 0.06, 'Discount']\n",
    "# df0.Discount[0.01] \n",
    "df0.drop([613, 614, 615, 616, 704], axis=0, inplace=True)\n",
    "# df1"
   ]
  },
  {
   "cell_type": "markdown",
   "metadata": {},
   "source": [
    "Now that I have just the rows that are at least 70+ samples I will make a simple graph of their sum to see what I'm looking at more precisely. And based on that we can see that for the most part each of the discount levels are pretty much the same minus 'No Discount' being the most by a large margin and '5%' barely pulling ahead of the others."
   ]
  },
  {
   "cell_type": "code",
   "execution_count": 43,
   "metadata": {
    "scrolled": false
   },
   "outputs": [
    {
     "data": {
      "text/plain": [
       "Text(0.5, 0, 'Total')"
      ]
     },
     "execution_count": 43,
     "metadata": {},
     "output_type": "execute_result"
    },
    {
     "data": {
      "image/png": "[encoded data removed]",
      "text/plain": [
       "<Figure size 1152x288 with 1 Axes>"
      ]
     },
     "metadata": {
      "needs_background": "light"
     },
     "output_type": "display_data"
    }
   ],
   "source": [
    "ax0 = df0.groupby(['Discount'])['Quantity'].sum().plot(kind='barh', figsize=(16, 4))\n",
    "\n",
    "ax0.set_title('Total Quantity')\n",
    "ax0.set_ylabel('Percent')\n",
    "ax0.set_xlabel('Total')"
   ]
  },
  {
   "cell_type": "markdown",
   "metadata": {},
   "source": [
    "Next we'll make some dist plots of the quantity. I wish I could take credit for the layered distplot idea but I found someone who did a great job with it and after reading more seaborn documentation this is what I came up with for the initial viewing of the data. "
   ]
  },
  {
   "cell_type": "code",
   "execution_count": 44,
   "metadata": {
    "scrolled": false
   },
   "outputs": [
    {
     "data": {
      "text/plain": [
       "Text(0.5, 0, 'Quantity')"
      ]
     },
     "execution_count": 44,
     "metadata": {},
     "output_type": "execute_result"
    },
    {
     "data": {
      "image/png": "[encoded data removed]",
      "text/plain": [
       "<Figure size 864x864 with 1 Axes>"
      ]
     },
     "metadata": {
      "needs_background": "light"
     },
     "output_type": "display_data"
    }
   ],
   "source": [
    "plt.figure(figsize=(12, 12))\n",
    "for discount in set(df0.Discount):\n",
    "    discount_group = df0.loc[df0['Discount'] == discount]\n",
    "    sns.distplot(discount_group['Quantity'], hist_kws=dict(alpha=0.2), label=discount).set_title('Quantity data relative to Discount')\n",
    "\n",
    "plt.legend()\n",
    "plt.xlabel('Quantity')"
   ]
  },
  {
   "cell_type": "markdown",
   "metadata": {},
   "source": [
    "While the above visualization looks pretty and shows them all together, it is very hard for many people to get a strong idea of what they're looking at. So I then created subplots with each of them separately labeled so that you can see what is going on."
   ]
  },
  {
   "cell_type": "code",
   "execution_count": 45,
   "metadata": {
    "scrolled": false
   },
   "outputs": [
    {
     "data": {
      "text/plain": [
       "Text(0.5, 1.0, '25% Discount')"
      ]
     },
     "execution_count": 45,
     "metadata": {},
     "output_type": "execute_result"
    },
    {
     "data": {
      "image/png": "[encoded data removed]",
      "text/plain": [
       "<Figure size 1080x1080 with 6 Axes>"
      ]
     },
     "metadata": {
      "needs_background": "light"
     },
     "output_type": "display_data"
    }
   ],
   "source": [
    "f, axes = plt.subplots(3, 2, figsize=(15, 15), sharex=True)\n",
    "\n",
    "discount_group1 = df0.loc[df0['Discount'] == 0.0]\n",
    "discount_group2 = df0.loc[df0['Discount'] == 0.05]\n",
    "discount_group3 = df0.loc[df0['Discount'] == 0.1]\n",
    "discount_group4 = df0.loc[df0['Discount'] == 0.15]\n",
    "discount_group5 = df0.loc[df0['Discount'] == 0.2]\n",
    "discount_group6 = df0.loc[df0['Discount'] == 0.25]\n",
    "\n",
    "# Due to the nature of subplot axis' I was not able to make a for loop out of this with them next to each other like this.\n",
    "sns.distplot(discount_group1['Quantity'], color='y', hist_kws=dict(alpha=0.2), ax = axes[0, 0]).set_title('No Discount')\n",
    "sns.distplot(discount_group2['Quantity'], color='b',hist_kws=dict(alpha=0.2), ax = axes[0, 1]).set_title('5% Discount')\n",
    "sns.distplot(discount_group3['Quantity'], color='g',hist_kws=dict(alpha=0.2), ax = axes[1, 0]).set_title('10% Discount')\n",
    "sns.distplot(discount_group4['Quantity'], color='r',hist_kws=dict(alpha=0.2), ax = axes[1, 1]).set_title('15% Discount')\n",
    "sns.distplot(discount_group5['Quantity'], color='purple',hist_kws=dict(alpha=0.2), ax = axes[2, 0]).set_title('20% Discount')\n",
    "sns.distplot(discount_group6['Quantity'], color='orange',hist_kws=dict(alpha=0.2), ax = axes[2, 1]).set_title('25% Discount')"
   ]
  },
  {
   "cell_type": "markdown",
   "metadata": {},
   "source": [
    "Now that we have the visualization of what is going on we will then get the p-value from the data. The first test we'll check is to see if the data is significant if there is a Discount at all."
   ]
  },
  {
   "cell_type": "code",
   "execution_count": 46,
   "metadata": {},
   "outputs": [],
   "source": [
    "# This creates the two sample groups, one with no discount and one with a discount.\n",
    "\n",
    "p0 = df0.loc[(df0.Discount == 0.0), 'Quantity']\n",
    "p1 = df0.loc[(df0.Discount > 0.0), 'Quantity']"
   ]
  },
  {
   "cell_type": "code",
   "execution_count": 47,
   "metadata": {},
   "outputs": [],
   "source": [
    "# This creates the samples that we will be looking at for the following test.\n",
    "\n",
    "p0_means = []\n",
    "p1_means = []\n",
    "for i in range(30):\n",
    "    samp0_mean = np.random.choice(p0, 50, replace=False).mean()\n",
    "    samp1_mean = np.random.choice(p1, 50, replace=False).mean()\n",
    "    p0_means.append(samp0_mean)\n",
    "    p1_means.append(samp1_mean)"
   ]
  },
  {
   "cell_type": "code",
   "execution_count": 48,
   "metadata": {},
   "outputs": [
    {
     "data": {
      "text/plain": [
       "LeveneResult(statistic=2.0236669464855916, pvalue=0.16022098973920346)"
      ]
     },
     "execution_count": 48,
     "metadata": {},
     "output_type": "execute_result"
    }
   ],
   "source": [
    "# test for equal variance\n",
    "# h0: mup0 = mup1\n",
    "# ha: mup0 != mup1\n",
    "\n",
    "scs.levene(p0_means, p1_means)"
   ]
  },
  {
   "cell_type": "code",
   "execution_count": 49,
   "metadata": {},
   "outputs": [
    {
     "data": {
      "text/plain": [
       "Ttest_indResult(statistic=-9.212233670224872, pvalue=5.931640366338662e-13)"
      ]
     },
     "execution_count": 49,
     "metadata": {},
     "output_type": "execute_result"
    }
   ],
   "source": [
    "# Now we are checking the p value off of this and we can see that it is very low.\n",
    "\n",
    "scs.ttest_ind(p0_means, p1_means)"
   ]
  },
  {
   "cell_type": "code",
   "execution_count": 50,
   "metadata": {
    "scrolled": true
   },
   "outputs": [
    {
     "data": {
      "text/plain": [
       "(45.67200000000001, 60.71999999999999)"
      ]
     },
     "execution_count": 50,
     "metadata": {},
     "output_type": "execute_result"
    }
   ],
   "source": [
    "# And just to double check we'll look at the means of the two and see that the average \n",
    "# quantity of those with discounts is far higher.\n",
    "\n",
    "np.mean(p0_means), np.mean(p1_means)"
   ]
  },
  {
   "cell_type": "markdown",
   "metadata": {},
   "source": [
    "#### Initial Conclusion of Significance Test\n",
    "\n",
    "Now that we understand that in general that discounts and quantity have a significant connection we're going to check each one with a Tukey Test and collect more information on the data."
   ]
  },
  {
   "cell_type": "code",
   "execution_count": 51,
   "metadata": {},
   "outputs": [
    {
     "name": "stdout",
     "output_type": "stream",
     "text": [
      "Multiple Comparison of Means - Tukey HSD,FWER=0.05\n",
      "==============================================\n",
      "group1 group2 meandiff  lower    upper  reject\n",
      "----------------------------------------------\n",
      " 0.0    0.05  12.9091  -1.9641  27.7823 False \n",
      " 0.0    0.1   11.5592  -4.3219  27.4402 False \n",
      " 0.0    0.15  12.7592  -3.1219  28.6402 False \n",
      " 0.0    0.2   12.9486  -3.1251  29.0223 False \n",
      " 0.0    0.25  13.7486  -2.4245  29.9218 False \n",
      " 0.05   0.1   -1.3499  -21.8055 19.1057 False \n",
      " 0.05   0.15  -0.1499  -20.6055 20.3057 False \n",
      " 0.05   0.2    0.0395  -20.566  20.6451 False \n",
      " 0.05   0.25   0.8396  -19.8437 21.5228 False \n",
      " 0.1    0.15    1.2    -19.9997 22.3997 False \n",
      " 0.1    0.2    1.3894  -19.955  22.7338 False \n",
      " 0.1    0.25   2.1894   -19.23  23.6088 False \n",
      " 0.15   0.2    0.1894  -21.155  21.5338 False \n",
      " 0.15   0.25   0.9894   -20.43  22.4088 False \n",
      " 0.2    0.25    0.8    -20.7626 22.3627 False \n",
      "----------------------------------------------\n"
     ]
    }
   ],
   "source": [
    "results = sm.stats.multicomp.pairwise_tukeyhsd(df0['Quantity'], df0['Discount'], 0.05)\n",
    "print(results)"
   ]
  },
  {
   "cell_type": "markdown",
   "metadata": {},
   "source": [
    "#### Initial Conclusion of Tukey Test\n",
    "\n",
    "This data gives us a much more telling bit of information in that when no discounts is compared to each of the groups of discount types that they are all signnificant.\n",
    "\n",
    "On top of this information we also know that they are all significant towards each other too."
   ]
  },
  {
   "cell_type": "code",
   "execution_count": 52,
   "metadata": {
    "scrolled": false
   },
   "outputs": [
    {
     "data": {
      "text/html": [
       "<div>\n",
       "<style scoped>\n",
       "    .dataframe tbody tr th:only-of-type {\n",
       "        vertical-align: middle;\n",
       "    }\n",
       "\n",
       "    .dataframe tbody tr th {\n",
       "        vertical-align: top;\n",
       "    }\n",
       "\n",
       "    .dataframe thead th {\n",
       "        text-align: right;\n",
       "    }\n",
       "</style>\n",
       "<table border=\"1\" class=\"dataframe\">\n",
       "  <thead>\n",
       "    <tr style=\"text-align: right;\">\n",
       "      <th></th>\n",
       "      <th>sum_sq</th>\n",
       "      <th>df</th>\n",
       "      <th>F</th>\n",
       "      <th>PR(&gt;F)</th>\n",
       "    </tr>\n",
       "  </thead>\n",
       "  <tbody>\n",
       "    <tr>\n",
       "      <th>C(Discount)</th>\n",
       "      <td>3.862341e+04</td>\n",
       "      <td>5.0</td>\n",
       "      <td>3.7367</td>\n",
       "      <td>0.002343</td>\n",
       "    </tr>\n",
       "    <tr>\n",
       "      <th>Residual</th>\n",
       "      <td>2.044508e+06</td>\n",
       "      <td>989.0</td>\n",
       "      <td>NaN</td>\n",
       "      <td>NaN</td>\n",
       "    </tr>\n",
       "  </tbody>\n",
       "</table>\n",
       "</div>"
      ],
      "text/plain": [
       "                   sum_sq     df       F    PR(>F)\n",
       "C(Discount)  3.862341e+04    5.0  3.7367  0.002343\n",
       "Residual     2.044508e+06  989.0     NaN       NaN"
      ]
     },
     "execution_count": 52,
     "metadata": {},
     "output_type": "execute_result"
    }
   ],
   "source": [
    "lm = ols('Quantity ~ C(Discount)', df0).fit()\n",
    "sm.stats.anova_lm(lm, typ=2)"
   ]
  },
  {
   "cell_type": "markdown",
   "metadata": {},
   "source": [
    "#### Initial Conclusion of an ANOVA Linear Model Test\n",
    "\n",
    "This is the final test of the data that we have collected and now we know that the data in general when layered to check for significance has a very small P-Value which follows along with all of the other information that we have obtained so far."
   ]
  },
  {
   "cell_type": "markdown",
   "metadata": {},
   "source": [
    "## Results\n",
    "\n",
    "Based on the very strong P value through multiple tests based on the Quantity of items sold given Discount rates I think that all of the levels of discounts up to 0.25 cannot be proven as false therefore they hold siginficance. So we reject the Null.\n",
    "\n",
    "## Final Remarks\n",
    "\n",
    "From a financial perspective, we have proven that using coupons at the 5%, 10%, 15%, 20% and 25% are useful for these companies to use on these products. In fact I would go on to say that there should be a study going forward to see how much coupon offering is enough to maximize profit and sales."
   ]
  },
  {
   "cell_type": "markdown",
   "metadata": {},
   "source": [
    "# Question_1\n",
    "\n",
    "#### Does the average price in the purchase hold statistical sifnificance towards the category of goods purchased? \n"
   ]
  },
  {
   "cell_type": "markdown",
   "metadata": {},
   "source": [
    "Firstly we will make the dataframe from our cleaned up tables and we'll be dropping known duplicate columns from the tables before we merge them together. Then after check out what's left we'll trim it up again by taking out all excess columns."
   ]
  },
  {
   "cell_type": "code",
   "execution_count": 53,
   "metadata": {},
   "outputs": [],
   "source": [
    "df11 = df['OrderDetail'].copy()\n",
    "df12 = df['Product'].copy()\n",
    "\n",
    "# These were used to test to make sure they worked\n",
    "# df11.head()\n",
    "# df12.head()"
   ]
  },
  {
   "cell_type": "code",
   "execution_count": 54,
   "metadata": {},
   "outputs": [],
   "source": [
    "df12.drop(['UnitPrice'], axis=1, inplace=True)\n",
    "df11.drop(['Id'], axis=1, inplace=True)"
   ]
  },
  {
   "cell_type": "code",
   "execution_count": 55,
   "metadata": {},
   "outputs": [],
   "source": [
    "df1 = pd.merge(df11, df12, left_on='ProductId', right_on='Id')"
   ]
  },
  {
   "cell_type": "code",
   "execution_count": 56,
   "metadata": {},
   "outputs": [
    {
     "data": {
      "text/html": [
       "<div>\n",
       "<style scoped>\n",
       "    .dataframe tbody tr th:only-of-type {\n",
       "        vertical-align: middle;\n",
       "    }\n",
       "\n",
       "    .dataframe tbody tr th {\n",
       "        vertical-align: top;\n",
       "    }\n",
       "\n",
       "    .dataframe thead th {\n",
       "        text-align: right;\n",
       "    }\n",
       "</style>\n",
       "<table border=\"1\" class=\"dataframe\">\n",
       "  <thead>\n",
       "    <tr style=\"text-align: right;\">\n",
       "      <th></th>\n",
       "      <th>OrderId</th>\n",
       "      <th>ProductId</th>\n",
       "      <th>UnitPrice</th>\n",
       "      <th>Quantity</th>\n",
       "      <th>Discount</th>\n",
       "      <th>Id</th>\n",
       "      <th>ProductName</th>\n",
       "      <th>SupplierId</th>\n",
       "      <th>CategoryId</th>\n",
       "      <th>QuantityPerUnit</th>\n",
       "      <th>UnitsInStock</th>\n",
       "      <th>UnitsOnOrder</th>\n",
       "      <th>ReorderLevel</th>\n",
       "      <th>Discontinued</th>\n",
       "    </tr>\n",
       "  </thead>\n",
       "  <tbody>\n",
       "    <tr>\n",
       "      <th>0</th>\n",
       "      <td>10248</td>\n",
       "      <td>11</td>\n",
       "      <td>14.0</td>\n",
       "      <td>12</td>\n",
       "      <td>0.0</td>\n",
       "      <td>11</td>\n",
       "      <td>Queso Cabrales</td>\n",
       "      <td>5</td>\n",
       "      <td>4</td>\n",
       "      <td>1 kg pkg.</td>\n",
       "      <td>22</td>\n",
       "      <td>30</td>\n",
       "      <td>30</td>\n",
       "      <td>0</td>\n",
       "    </tr>\n",
       "    <tr>\n",
       "      <th>1</th>\n",
       "      <td>10296</td>\n",
       "      <td>11</td>\n",
       "      <td>16.8</td>\n",
       "      <td>12</td>\n",
       "      <td>0.0</td>\n",
       "      <td>11</td>\n",
       "      <td>Queso Cabrales</td>\n",
       "      <td>5</td>\n",
       "      <td>4</td>\n",
       "      <td>1 kg pkg.</td>\n",
       "      <td>22</td>\n",
       "      <td>30</td>\n",
       "      <td>30</td>\n",
       "      <td>0</td>\n",
       "    </tr>\n",
       "    <tr>\n",
       "      <th>2</th>\n",
       "      <td>10327</td>\n",
       "      <td>11</td>\n",
       "      <td>16.8</td>\n",
       "      <td>50</td>\n",
       "      <td>0.2</td>\n",
       "      <td>11</td>\n",
       "      <td>Queso Cabrales</td>\n",
       "      <td>5</td>\n",
       "      <td>4</td>\n",
       "      <td>1 kg pkg.</td>\n",
       "      <td>22</td>\n",
       "      <td>30</td>\n",
       "      <td>30</td>\n",
       "      <td>0</td>\n",
       "    </tr>\n",
       "    <tr>\n",
       "      <th>3</th>\n",
       "      <td>10353</td>\n",
       "      <td>11</td>\n",
       "      <td>16.8</td>\n",
       "      <td>12</td>\n",
       "      <td>0.2</td>\n",
       "      <td>11</td>\n",
       "      <td>Queso Cabrales</td>\n",
       "      <td>5</td>\n",
       "      <td>4</td>\n",
       "      <td>1 kg pkg.</td>\n",
       "      <td>22</td>\n",
       "      <td>30</td>\n",
       "      <td>30</td>\n",
       "      <td>0</td>\n",
       "    </tr>\n",
       "    <tr>\n",
       "      <th>4</th>\n",
       "      <td>10365</td>\n",
       "      <td>11</td>\n",
       "      <td>16.8</td>\n",
       "      <td>24</td>\n",
       "      <td>0.0</td>\n",
       "      <td>11</td>\n",
       "      <td>Queso Cabrales</td>\n",
       "      <td>5</td>\n",
       "      <td>4</td>\n",
       "      <td>1 kg pkg.</td>\n",
       "      <td>22</td>\n",
       "      <td>30</td>\n",
       "      <td>30</td>\n",
       "      <td>0</td>\n",
       "    </tr>\n",
       "  </tbody>\n",
       "</table>\n",
       "</div>"
      ],
      "text/plain": [
       "   OrderId  ProductId  UnitPrice  Quantity  Discount  Id     ProductName  \\\n",
       "0    10248         11       14.0        12       0.0  11  Queso Cabrales   \n",
       "1    10296         11       16.8        12       0.0  11  Queso Cabrales   \n",
       "2    10327         11       16.8        50       0.2  11  Queso Cabrales   \n",
       "3    10353         11       16.8        12       0.2  11  Queso Cabrales   \n",
       "4    10365         11       16.8        24       0.0  11  Queso Cabrales   \n",
       "\n",
       "   SupplierId  CategoryId QuantityPerUnit  UnitsInStock  UnitsOnOrder  \\\n",
       "0           5           4       1 kg pkg.            22            30   \n",
       "1           5           4       1 kg pkg.            22            30   \n",
       "2           5           4       1 kg pkg.            22            30   \n",
       "3           5           4       1 kg pkg.            22            30   \n",
       "4           5           4       1 kg pkg.            22            30   \n",
       "\n",
       "   ReorderLevel  Discontinued  \n",
       "0            30             0  \n",
       "1            30             0  \n",
       "2            30             0  \n",
       "3            30             0  \n",
       "4            30             0  "
      ]
     },
     "execution_count": 56,
     "metadata": {},
     "output_type": "execute_result"
    }
   ],
   "source": [
    "df1.head()"
   ]
  },
  {
   "cell_type": "code",
   "execution_count": 57,
   "metadata": {
    "scrolled": true
   },
   "outputs": [],
   "source": [
    "df1['total_price'] = (df1.Quantity * df1.UnitPrice) * (1 - df1.Discount)\n",
    "df1.drop(['ProductId', 'UnitPrice', 'Id', 'ProductName', 'SupplierId', 'Discount', 'Discontinued', 'OrderId', 'QuantityPerUnit', 'UnitsInStock', 'UnitsOnOrder', 'ReorderLevel'], axis = 1, inplace=True)\n",
    "\n",
    "# Used to test\n",
    "# df1"
   ]
  },
  {
   "cell_type": "code",
   "execution_count": 58,
   "metadata": {
    "scrolled": false
   },
   "outputs": [
    {
     "data": {
      "text/html": [
       "<div>\n",
       "<style scoped>\n",
       "    .dataframe tbody tr th:only-of-type {\n",
       "        vertical-align: middle;\n",
       "    }\n",
       "\n",
       "    .dataframe tbody tr th {\n",
       "        vertical-align: top;\n",
       "    }\n",
       "\n",
       "    .dataframe thead th {\n",
       "        text-align: right;\n",
       "    }\n",
       "</style>\n",
       "<table border=\"1\" class=\"dataframe\">\n",
       "  <thead>\n",
       "    <tr style=\"text-align: right;\">\n",
       "      <th></th>\n",
       "      <th>Quantity</th>\n",
       "      <th>total_price</th>\n",
       "    </tr>\n",
       "    <tr>\n",
       "      <th>CategoryId</th>\n",
       "      <th></th>\n",
       "      <th></th>\n",
       "    </tr>\n",
       "  </thead>\n",
       "  <tbody>\n",
       "    <tr>\n",
       "      <th>1</th>\n",
       "      <td>404</td>\n",
       "      <td>404</td>\n",
       "    </tr>\n",
       "    <tr>\n",
       "      <th>2</th>\n",
       "      <td>216</td>\n",
       "      <td>216</td>\n",
       "    </tr>\n",
       "    <tr>\n",
       "      <th>3</th>\n",
       "      <td>334</td>\n",
       "      <td>334</td>\n",
       "    </tr>\n",
       "    <tr>\n",
       "      <th>4</th>\n",
       "      <td>366</td>\n",
       "      <td>366</td>\n",
       "    </tr>\n",
       "    <tr>\n",
       "      <th>5</th>\n",
       "      <td>196</td>\n",
       "      <td>196</td>\n",
       "    </tr>\n",
       "    <tr>\n",
       "      <th>6</th>\n",
       "      <td>173</td>\n",
       "      <td>173</td>\n",
       "    </tr>\n",
       "    <tr>\n",
       "      <th>7</th>\n",
       "      <td>136</td>\n",
       "      <td>136</td>\n",
       "    </tr>\n",
       "    <tr>\n",
       "      <th>8</th>\n",
       "      <td>330</td>\n",
       "      <td>330</td>\n",
       "    </tr>\n",
       "  </tbody>\n",
       "</table>\n",
       "</div>"
      ],
      "text/plain": [
       "            Quantity  total_price\n",
       "CategoryId                       \n",
       "1                404          404\n",
       "2                216          216\n",
       "3                334          334\n",
       "4                366          366\n",
       "5                196          196\n",
       "6                173          173\n",
       "7                136          136\n",
       "8                330          330"
      ]
     },
     "execution_count": 58,
     "metadata": {},
     "output_type": "execute_result"
    }
   ],
   "source": [
    "df1.groupby(['CategoryId']).count()"
   ]
  },
  {
   "cell_type": "markdown",
   "metadata": {},
   "source": [
    "Now that the column is left with only the most essential of columns (and Quantity since it was used for testing further below). We'll now visualize our data with an easy to read horizontal bar graph."
   ]
  },
  {
   "cell_type": "code",
   "execution_count": 59,
   "metadata": {
    "scrolled": false
   },
   "outputs": [
    {
     "data": {
      "text/plain": [
       "Text(0, 0.5, 'Category')"
      ]
     },
     "execution_count": 59,
     "metadata": {},
     "output_type": "execute_result"
    },
    {
     "data": {
      "image/png": "[encoded data removed]",
      "text/plain": [
       "<Figure size 936x576 with 1 Axes>"
      ]
     },
     "metadata": {
      "needs_background": "light"
     },
     "output_type": "display_data"
    }
   ],
   "source": [
    "ax1 = df1.groupby(['CategoryId'])['total_price'].mean().plot(kind='barh', figsize=(13, 8))\n",
    "plt.rcParams.update({'font.size': 22})\n",
    "ax1.set_title('Total Revenue per Category')\n",
    "ax1.set_xlabel('Total Value ($)')\n",
    "ax1.set_ylabel('Category')"
   ]
  },
  {
   "cell_type": "markdown",
   "metadata": {},
   "source": [
    "While it would be nice to use the data to sort out how significant each of the categorical ID's of data are by Discount based on Total Price there just isn't enough data to do proper sampling of each group. If there were more it would be possible but for the sake of getting any data we'll be from this point onward looking at the significance of each Category based on Total Price since those have enough data."
   ]
  },
  {
   "cell_type": "code",
   "execution_count": 60,
   "metadata": {},
   "outputs": [
    {
     "data": {
      "text/plain": [
       "array([4, 5, 7, 8, 2, 3, 1, 6], dtype=int64)"
      ]
     },
     "execution_count": 60,
     "metadata": {},
     "output_type": "execute_result"
    }
   ],
   "source": [
    "df1.CategoryId.unique()"
   ]
  },
  {
   "cell_type": "code",
   "execution_count": 61,
   "metadata": {
    "scrolled": true
   },
   "outputs": [],
   "source": [
    "p1 = df1.loc[(df1.CategoryId == 1), 'total_price']\n",
    "p2 = df1.loc[(df1.CategoryId == 2), 'total_price']\n",
    "p3 = df1.loc[(df1.CategoryId == 3), 'total_price']\n",
    "p4 = df1.loc[(df1.CategoryId == 4), 'total_price']\n",
    "p5 = df1.loc[(df1.CategoryId == 5), 'total_price']\n",
    "p6 = df1.loc[(df1.CategoryId == 6), 'total_price']\n",
    "p7 = df1.loc[(df1.CategoryId == 7), 'total_price']\n",
    "p8 = df1.loc[(df1.CategoryId == 8), 'total_price']"
   ]
  },
  {
   "cell_type": "code",
   "execution_count": 64,
   "metadata": {},
   "outputs": [],
   "source": [
    "# Used to test the count per categoryid\n",
    "# p2.count()"
   ]
  },
  {
   "cell_type": "code",
   "execution_count": 65,
   "metadata": {},
   "outputs": [],
   "source": [
    "# This creates the samples that we will be looking at for the following test.\n",
    "\n",
    "p1_means = []\n",
    "p2_means = []\n",
    "p3_means = []\n",
    "p4_means = []\n",
    "p5_means = []\n",
    "p6_means = []\n",
    "p7_means = []\n",
    "\n",
    "\n",
    "for i in range(30):\n",
    "    samp1_mean = np.random.choice(p1, 50, replace=False).mean()\n",
    "    samp2_mean = np.random.choice(p2, 50, replace=False).mean()\n",
    "    samp3_mean = np.random.choice(p3, 50, replace=False).mean()\n",
    "    samp4_mean = np.random.choice(p4, 50, replace=False).mean()\n",
    "    samp5_mean = np.random.choice(p5, 50, replace=False).mean()\n",
    "    samp6_mean = np.random.choice(p6, 50, replace=False).mean()\n",
    "    samp7_mean = np.random.choice(p7, 50, replace=False).mean()\n",
    "    p1_means.append(samp1_mean)\n",
    "    p2_means.append(samp2_mean)\n",
    "    p3_means.append(samp3_mean)\n",
    "    p4_means.append(samp4_mean)\n",
    "    p5_means.append(samp5_mean)\n",
    "    p6_means.append(samp6_mean)\n",
    "    p7_means.append(samp7_mean)"
   ]
  },
  {
   "cell_type": "markdown",
   "metadata": {},
   "source": [
    "We'll check for equal variance below and it seems to be fine but there are just too many categories to do a t-test of each so we'll be sticking to the Tukey Test to check for real significance."
   ]
  },
  {
   "cell_type": "code",
   "execution_count": 66,
   "metadata": {},
   "outputs": [
    {
     "data": {
      "text/plain": [
       "LeveneResult(statistic=10.706292581240874, pvalue=2.476819085060423e-10)"
      ]
     },
     "execution_count": 66,
     "metadata": {},
     "output_type": "execute_result"
    }
   ],
   "source": [
    "# test for equal variance\n",
    "# h0: mup0 = mup1\n",
    "# ha: mup0 != mup1\n",
    "scs.levene(p1_means, p2_means, p3_means, p4_means, p5_means, p6_means, p7_means)"
   ]
  },
  {
   "cell_type": "markdown",
   "metadata": {},
   "source": [
    "Here's one example of a t-test done between category 1 and 2 but in order to check all of the combinations it would be a lot of repeating."
   ]
  },
  {
   "cell_type": "code",
   "execution_count": 67,
   "metadata": {
    "scrolled": true
   },
   "outputs": [
    {
     "data": {
      "text/plain": [
       "Ttest_indResult(statistic=3.672221046827723, pvalue=0.0005256195972848217)"
      ]
     },
     "execution_count": 67,
     "metadata": {},
     "output_type": "execute_result"
    }
   ],
   "source": [
    "scs.ttest_ind(p1_means, p2_means)"
   ]
  },
  {
   "cell_type": "markdown",
   "metadata": {},
   "source": [
    "The Tukey Test here does all of the major work for us in checking each categorical combination for significance. There are even some that come up as True and so we know that some combinations lack significance with each other."
   ]
  },
  {
   "cell_type": "code",
   "execution_count": 68,
   "metadata": {},
   "outputs": [
    {
     "name": "stdout",
     "output_type": "stream",
     "text": [
      "Multiple Comparison of Means - Tukey HSD,FWER=0.05\n",
      "==================================================\n",
      "group1 group2  meandiff   lower     upper   reject\n",
      "--------------------------------------------------\n",
      "  1      2    -172.0813 -417.4777   73.315  False \n",
      "  1      3    -161.9705 -377.2755  53.3345  False \n",
      "  1      4     -22.3098 -232.3991  187.7796 False \n",
      "  1      5    -174.5473 -427.9707  78.8762  False \n",
      "  1      6     279.2857  14.7624   543.8091  True \n",
      "  1      7     72.1407  -216.4794  360.7608 False \n",
      "  1      8    -265.2772 -481.2954  -49.2591  True \n",
      "  2      3     10.1108  -244.0866  264.3082 False \n",
      "  2      4     149.7716 -100.0235  399.5667 False \n",
      "  2      5     -2.4659  -289.6653  284.7335 False \n",
      "  2      6     451.3671  154.3272  748.4069  True \n",
      "  2      7     244.222   -74.4654  562.9094 False \n",
      "  2      8     -93.1959 -347.9976  161.6058 False \n",
      "  3      4     139.6608  -80.6446  359.9661 False \n",
      "  3      5     -12.5767 -274.5316  249.3782 False \n",
      "  3      6     441.2562  168.5485  713.964   True \n",
      "  3      7     234.1112  -62.0281  530.2505 False \n",
      "  3      8    -103.3067  -329.273  122.6596 False \n",
      "  4      5    -152.2375 -409.9227  105.4477 False \n",
      "  4      6     301.5955  32.9864   570.2045  True \n",
      "  4      7     94.4504  -197.9188  386.8197 False \n",
      "  4      8    -242.9674 -463.9698  -21.9651  True \n",
      "  5      6     453.833   150.128   757.538   True \n",
      "  5      7     246.6879  -78.2208  571.5967 False \n",
      "  5      8      -90.73  -353.2713  171.8114 False \n",
      "  6      7     -207.145 -540.7839  126.4938 False \n",
      "  6      8    -544.5629 -817.8341 -271.2918  True \n",
      "  7      8    -337.4179 -634.0761  -40.7597  True \n",
      "--------------------------------------------------\n"
     ]
    }
   ],
   "source": [
    "results = sm.stats.multicomp.pairwise_tukeyhsd(df1['total_price'], df1['CategoryId'], 0.05)\n",
    "print(results)"
   ]
  },
  {
   "cell_type": "markdown",
   "metadata": {},
   "source": [
    "We'll then do an ANOVA Linear Model test to see what they are like all together and teh P-Value is also very low on that."
   ]
  },
  {
   "cell_type": "code",
   "execution_count": 69,
   "metadata": {},
   "outputs": [
    {
     "data": {
      "text/html": [
       "<div>\n",
       "<style scoped>\n",
       "    .dataframe tbody tr th:only-of-type {\n",
       "        vertical-align: middle;\n",
       "    }\n",
       "\n",
       "    .dataframe tbody tr th {\n",
       "        vertical-align: top;\n",
       "    }\n",
       "\n",
       "    .dataframe thead th {\n",
       "        text-align: right;\n",
       "    }\n",
       "</style>\n",
       "<table border=\"1\" class=\"dataframe\">\n",
       "  <thead>\n",
       "    <tr style=\"text-align: right;\">\n",
       "      <th></th>\n",
       "      <th>sum_sq</th>\n",
       "      <th>df</th>\n",
       "      <th>F</th>\n",
       "      <th>PR(&gt;F)</th>\n",
       "    </tr>\n",
       "  </thead>\n",
       "  <tbody>\n",
       "    <tr>\n",
       "      <th>C(total_price)</th>\n",
       "      <td>7650.145630</td>\n",
       "      <td>1164.0</td>\n",
       "      <td>1.434337</td>\n",
       "      <td>2.423045e-09</td>\n",
       "    </tr>\n",
       "    <tr>\n",
       "      <th>Residual</th>\n",
       "      <td>4536.288709</td>\n",
       "      <td>990.0</td>\n",
       "      <td>NaN</td>\n",
       "      <td>NaN</td>\n",
       "    </tr>\n",
       "  </tbody>\n",
       "</table>\n",
       "</div>"
      ],
      "text/plain": [
       "                     sum_sq      df         F        PR(>F)\n",
       "C(total_price)  7650.145630  1164.0  1.434337  2.423045e-09\n",
       "Residual        4536.288709   990.0       NaN           NaN"
      ]
     },
     "execution_count": 69,
     "metadata": {},
     "output_type": "execute_result"
    }
   ],
   "source": [
    "# Fitting a model of price_per_order on Region categories, and using statsmodels to compute an ANOVA table\n",
    "lm = ols('CategoryId ~ C(total_price)', df1).fit()\n",
    "sm.stats.anova_lm(lm, typ=2)"
   ]
  },
  {
   "cell_type": "markdown",
   "metadata": {},
   "source": [
    "### Results\n",
    "\n",
    "The P value for the results is 0.005 based on total price given certain categories but with the Tukey Test we know that not all of the categories are significant when compared to each other. \n",
    "\n",
    "### Final Remarks\n",
    "\n",
    "While it would have been more helpful to check the discount rate with relation to total price for each category there just wasn't enough data to have a very valid test. In fact if there was something that I could expand on the number of samples would be that so we could do a more in depth search for this data.\n",
    "\n",
    "However, for the companies what this data tells us is that most of the categories hold some significant value when compared to each other. If we are to dive further on this and check discounts per category further data collection is necessary."
   ]
  },
  {
   "cell_type": "markdown",
   "metadata": {},
   "source": [
    "# Question_2\n",
    "\n",
    "#### Is there statistical significance for total revenue per region? \n"
   ]
  },
  {
   "cell_type": "markdown",
   "metadata": {},
   "source": [
    "First and foremost we'll need to combine several tables together to get the data of region and total revenue in one spot. We'll take the three tables that connect for this and then we'll start to trim down all of the excess columns (and there are quite a few)."
   ]
  },
  {
   "cell_type": "code",
   "execution_count": 70,
   "metadata": {},
   "outputs": [],
   "source": [
    "df21 = df['OrderDetail'].copy()\n",
    "df22 = df['Order'].copy()\n",
    "df23 = df['Customer'].copy()"
   ]
  },
  {
   "cell_type": "code",
   "execution_count": 71,
   "metadata": {},
   "outputs": [],
   "source": [
    "# df21.drop(['ProductId', 'UnitPrice', ], axis=1, inplace=True)\n",
    "\n",
    "df24 = pd.merge(df21, df22, left_on='OrderId', right_on='Id')"
   ]
  },
  {
   "cell_type": "code",
   "execution_count": 72,
   "metadata": {},
   "outputs": [],
   "source": [
    "df25 = pd.merge(df24, df23, left_on='CustomerId', right_on='Id')"
   ]
  },
  {
   "cell_type": "code",
   "execution_count": 73,
   "metadata": {
    "scrolled": true
   },
   "outputs": [
    {
     "data": {
      "text/html": [
       "<div>\n",
       "<style scoped>\n",
       "    .dataframe tbody tr th:only-of-type {\n",
       "        vertical-align: middle;\n",
       "    }\n",
       "\n",
       "    .dataframe tbody tr th {\n",
       "        vertical-align: top;\n",
       "    }\n",
       "\n",
       "    .dataframe thead th {\n",
       "        text-align: right;\n",
       "    }\n",
       "</style>\n",
       "<table border=\"1\" class=\"dataframe\">\n",
       "  <thead>\n",
       "    <tr style=\"text-align: right;\">\n",
       "      <th></th>\n",
       "      <th>Id_x</th>\n",
       "      <th>OrderId</th>\n",
       "      <th>ProductId</th>\n",
       "      <th>UnitPrice</th>\n",
       "      <th>Quantity</th>\n",
       "      <th>Discount</th>\n",
       "      <th>Id_y</th>\n",
       "      <th>CustomerId</th>\n",
       "      <th>EmployeeId</th>\n",
       "      <th>OrderDate</th>\n",
       "      <th>...</th>\n",
       "      <th>CompanyName</th>\n",
       "      <th>ContactName</th>\n",
       "      <th>ContactTitle</th>\n",
       "      <th>Address</th>\n",
       "      <th>City</th>\n",
       "      <th>Region</th>\n",
       "      <th>PostalCode</th>\n",
       "      <th>Country</th>\n",
       "      <th>Phone</th>\n",
       "      <th>Fax</th>\n",
       "    </tr>\n",
       "  </thead>\n",
       "  <tbody>\n",
       "    <tr>\n",
       "      <th>0</th>\n",
       "      <td>10248/11</td>\n",
       "      <td>10248</td>\n",
       "      <td>11</td>\n",
       "      <td>14.0</td>\n",
       "      <td>12</td>\n",
       "      <td>0.0</td>\n",
       "      <td>10248</td>\n",
       "      <td>VINET</td>\n",
       "      <td>5</td>\n",
       "      <td>2012-07-04</td>\n",
       "      <td>...</td>\n",
       "      <td>Vins et alcools Chevalier</td>\n",
       "      <td>Paul Henriot</td>\n",
       "      <td>Accounting Manager</td>\n",
       "      <td>59 rue de l'Abbaye</td>\n",
       "      <td>Reims</td>\n",
       "      <td>Western Europe</td>\n",
       "      <td>51100</td>\n",
       "      <td>France</td>\n",
       "      <td>26.47.15.10</td>\n",
       "      <td>26.47.15.11</td>\n",
       "    </tr>\n",
       "    <tr>\n",
       "      <th>1</th>\n",
       "      <td>10248/42</td>\n",
       "      <td>10248</td>\n",
       "      <td>42</td>\n",
       "      <td>9.8</td>\n",
       "      <td>10</td>\n",
       "      <td>0.0</td>\n",
       "      <td>10248</td>\n",
       "      <td>VINET</td>\n",
       "      <td>5</td>\n",
       "      <td>2012-07-04</td>\n",
       "      <td>...</td>\n",
       "      <td>Vins et alcools Chevalier</td>\n",
       "      <td>Paul Henriot</td>\n",
       "      <td>Accounting Manager</td>\n",
       "      <td>59 rue de l'Abbaye</td>\n",
       "      <td>Reims</td>\n",
       "      <td>Western Europe</td>\n",
       "      <td>51100</td>\n",
       "      <td>France</td>\n",
       "      <td>26.47.15.10</td>\n",
       "      <td>26.47.15.11</td>\n",
       "    </tr>\n",
       "    <tr>\n",
       "      <th>2</th>\n",
       "      <td>10248/72</td>\n",
       "      <td>10248</td>\n",
       "      <td>72</td>\n",
       "      <td>34.8</td>\n",
       "      <td>5</td>\n",
       "      <td>0.0</td>\n",
       "      <td>10248</td>\n",
       "      <td>VINET</td>\n",
       "      <td>5</td>\n",
       "      <td>2012-07-04</td>\n",
       "      <td>...</td>\n",
       "      <td>Vins et alcools Chevalier</td>\n",
       "      <td>Paul Henriot</td>\n",
       "      <td>Accounting Manager</td>\n",
       "      <td>59 rue de l'Abbaye</td>\n",
       "      <td>Reims</td>\n",
       "      <td>Western Europe</td>\n",
       "      <td>51100</td>\n",
       "      <td>France</td>\n",
       "      <td>26.47.15.10</td>\n",
       "      <td>26.47.15.11</td>\n",
       "    </tr>\n",
       "    <tr>\n",
       "      <th>3</th>\n",
       "      <td>10274/71</td>\n",
       "      <td>10274</td>\n",
       "      <td>71</td>\n",
       "      <td>17.2</td>\n",
       "      <td>20</td>\n",
       "      <td>0.0</td>\n",
       "      <td>10274</td>\n",
       "      <td>VINET</td>\n",
       "      <td>6</td>\n",
       "      <td>2012-08-06</td>\n",
       "      <td>...</td>\n",
       "      <td>Vins et alcools Chevalier</td>\n",
       "      <td>Paul Henriot</td>\n",
       "      <td>Accounting Manager</td>\n",
       "      <td>59 rue de l'Abbaye</td>\n",
       "      <td>Reims</td>\n",
       "      <td>Western Europe</td>\n",
       "      <td>51100</td>\n",
       "      <td>France</td>\n",
       "      <td>26.47.15.10</td>\n",
       "      <td>26.47.15.11</td>\n",
       "    </tr>\n",
       "    <tr>\n",
       "      <th>4</th>\n",
       "      <td>10274/72</td>\n",
       "      <td>10274</td>\n",
       "      <td>72</td>\n",
       "      <td>27.8</td>\n",
       "      <td>7</td>\n",
       "      <td>0.0</td>\n",
       "      <td>10274</td>\n",
       "      <td>VINET</td>\n",
       "      <td>6</td>\n",
       "      <td>2012-08-06</td>\n",
       "      <td>...</td>\n",
       "      <td>Vins et alcools Chevalier</td>\n",
       "      <td>Paul Henriot</td>\n",
       "      <td>Accounting Manager</td>\n",
       "      <td>59 rue de l'Abbaye</td>\n",
       "      <td>Reims</td>\n",
       "      <td>Western Europe</td>\n",
       "      <td>51100</td>\n",
       "      <td>France</td>\n",
       "      <td>26.47.15.10</td>\n",
       "      <td>26.47.15.11</td>\n",
       "    </tr>\n",
       "  </tbody>\n",
       "</table>\n",
       "<p>5 rows × 31 columns</p>\n",
       "</div>"
      ],
      "text/plain": [
       "       Id_x  OrderId  ProductId  UnitPrice  Quantity  Discount   Id_y  \\\n",
       "0  10248/11    10248         11       14.0        12       0.0  10248   \n",
       "1  10248/42    10248         42        9.8        10       0.0  10248   \n",
       "2  10248/72    10248         72       34.8         5       0.0  10248   \n",
       "3  10274/71    10274         71       17.2        20       0.0  10274   \n",
       "4  10274/72    10274         72       27.8         7       0.0  10274   \n",
       "\n",
       "  CustomerId  EmployeeId   OrderDate  ...                CompanyName  \\\n",
       "0      VINET           5  2012-07-04  ...  Vins et alcools Chevalier   \n",
       "1      VINET           5  2012-07-04  ...  Vins et alcools Chevalier   \n",
       "2      VINET           5  2012-07-04  ...  Vins et alcools Chevalier   \n",
       "3      VINET           6  2012-08-06  ...  Vins et alcools Chevalier   \n",
       "4      VINET           6  2012-08-06  ...  Vins et alcools Chevalier   \n",
       "\n",
       "    ContactName        ContactTitle             Address   City  \\\n",
       "0  Paul Henriot  Accounting Manager  59 rue de l'Abbaye  Reims   \n",
       "1  Paul Henriot  Accounting Manager  59 rue de l'Abbaye  Reims   \n",
       "2  Paul Henriot  Accounting Manager  59 rue de l'Abbaye  Reims   \n",
       "3  Paul Henriot  Accounting Manager  59 rue de l'Abbaye  Reims   \n",
       "4  Paul Henriot  Accounting Manager  59 rue de l'Abbaye  Reims   \n",
       "\n",
       "           Region PostalCode Country        Phone          Fax  \n",
       "0  Western Europe      51100  France  26.47.15.10  26.47.15.11  \n",
       "1  Western Europe      51100  France  26.47.15.10  26.47.15.11  \n",
       "2  Western Europe      51100  France  26.47.15.10  26.47.15.11  \n",
       "3  Western Europe      51100  France  26.47.15.10  26.47.15.11  \n",
       "4  Western Europe      51100  France  26.47.15.10  26.47.15.11  \n",
       "\n",
       "[5 rows x 31 columns]"
      ]
     },
     "execution_count": 73,
     "metadata": {},
     "output_type": "execute_result"
    }
   ],
   "source": [
    "df25.head()"
   ]
  },
  {
   "cell_type": "code",
   "execution_count": 74,
   "metadata": {},
   "outputs": [],
   "source": [
    "df25.drop(['Id_x', 'ProductId', 'Id_y', 'CustomerId', 'EmployeeId', 'OrderDate', 'Freight', 'ShipAddress', 'CompanyName', 'ContactTitle', 'Address', 'City', 'PostalCode', 'Country', 'RequiredDate', 'ShippedDate', 'ShipVia', 'ShipName', 'Phone', 'Fax'], axis=1, inplace=True)"
   ]
  },
  {
   "cell_type": "code",
   "execution_count": 75,
   "metadata": {
    "scrolled": true
   },
   "outputs": [
    {
     "data": {
      "text/html": [
       "<div>\n",
       "<style scoped>\n",
       "    .dataframe tbody tr th:only-of-type {\n",
       "        vertical-align: middle;\n",
       "    }\n",
       "\n",
       "    .dataframe tbody tr th {\n",
       "        vertical-align: top;\n",
       "    }\n",
       "\n",
       "    .dataframe thead th {\n",
       "        text-align: right;\n",
       "    }\n",
       "</style>\n",
       "<table border=\"1\" class=\"dataframe\">\n",
       "  <thead>\n",
       "    <tr style=\"text-align: right;\">\n",
       "      <th></th>\n",
       "      <th>OrderId</th>\n",
       "      <th>UnitPrice</th>\n",
       "      <th>Quantity</th>\n",
       "      <th>Discount</th>\n",
       "      <th>ShipCity</th>\n",
       "      <th>ShipRegion</th>\n",
       "      <th>ShipPostalCode</th>\n",
       "      <th>ShipCountry</th>\n",
       "      <th>Id</th>\n",
       "      <th>ContactName</th>\n",
       "      <th>Region</th>\n",
       "    </tr>\n",
       "  </thead>\n",
       "  <tbody>\n",
       "    <tr>\n",
       "      <th>0</th>\n",
       "      <td>10248</td>\n",
       "      <td>14.0</td>\n",
       "      <td>12</td>\n",
       "      <td>0.0</td>\n",
       "      <td>Reims</td>\n",
       "      <td>Western Europe</td>\n",
       "      <td>51100</td>\n",
       "      <td>France</td>\n",
       "      <td>VINET</td>\n",
       "      <td>Paul Henriot</td>\n",
       "      <td>Western Europe</td>\n",
       "    </tr>\n",
       "    <tr>\n",
       "      <th>1</th>\n",
       "      <td>10248</td>\n",
       "      <td>9.8</td>\n",
       "      <td>10</td>\n",
       "      <td>0.0</td>\n",
       "      <td>Reims</td>\n",
       "      <td>Western Europe</td>\n",
       "      <td>51100</td>\n",
       "      <td>France</td>\n",
       "      <td>VINET</td>\n",
       "      <td>Paul Henriot</td>\n",
       "      <td>Western Europe</td>\n",
       "    </tr>\n",
       "    <tr>\n",
       "      <th>2</th>\n",
       "      <td>10248</td>\n",
       "      <td>34.8</td>\n",
       "      <td>5</td>\n",
       "      <td>0.0</td>\n",
       "      <td>Reims</td>\n",
       "      <td>Western Europe</td>\n",
       "      <td>51100</td>\n",
       "      <td>France</td>\n",
       "      <td>VINET</td>\n",
       "      <td>Paul Henriot</td>\n",
       "      <td>Western Europe</td>\n",
       "    </tr>\n",
       "    <tr>\n",
       "      <th>3</th>\n",
       "      <td>10274</td>\n",
       "      <td>17.2</td>\n",
       "      <td>20</td>\n",
       "      <td>0.0</td>\n",
       "      <td>Reims</td>\n",
       "      <td>Western Europe</td>\n",
       "      <td>51100</td>\n",
       "      <td>France</td>\n",
       "      <td>VINET</td>\n",
       "      <td>Paul Henriot</td>\n",
       "      <td>Western Europe</td>\n",
       "    </tr>\n",
       "    <tr>\n",
       "      <th>4</th>\n",
       "      <td>10274</td>\n",
       "      <td>27.8</td>\n",
       "      <td>7</td>\n",
       "      <td>0.0</td>\n",
       "      <td>Reims</td>\n",
       "      <td>Western Europe</td>\n",
       "      <td>51100</td>\n",
       "      <td>France</td>\n",
       "      <td>VINET</td>\n",
       "      <td>Paul Henriot</td>\n",
       "      <td>Western Europe</td>\n",
       "    </tr>\n",
       "  </tbody>\n",
       "</table>\n",
       "</div>"
      ],
      "text/plain": [
       "   OrderId  UnitPrice  Quantity  Discount ShipCity      ShipRegion  \\\n",
       "0    10248       14.0        12       0.0    Reims  Western Europe   \n",
       "1    10248        9.8        10       0.0    Reims  Western Europe   \n",
       "2    10248       34.8         5       0.0    Reims  Western Europe   \n",
       "3    10274       17.2        20       0.0    Reims  Western Europe   \n",
       "4    10274       27.8         7       0.0    Reims  Western Europe   \n",
       "\n",
       "  ShipPostalCode ShipCountry     Id   ContactName          Region  \n",
       "0          51100      France  VINET  Paul Henriot  Western Europe  \n",
       "1          51100      France  VINET  Paul Henriot  Western Europe  \n",
       "2          51100      France  VINET  Paul Henriot  Western Europe  \n",
       "3          51100      France  VINET  Paul Henriot  Western Europe  \n",
       "4          51100      France  VINET  Paul Henriot  Western Europe  "
      ]
     },
     "execution_count": 75,
     "metadata": {},
     "output_type": "execute_result"
    }
   ],
   "source": [
    "df25.head()"
   ]
  },
  {
   "cell_type": "markdown",
   "metadata": {},
   "source": [
    "Now that we have it trimmed down, in order to have any issues with naming patterns or if we end up needing to change someting on the fly further below we'll be getting a new variable name and copying what we just done into that variable.\n",
    "\n",
    "After that we'll be getting what columns we need for the question and then we'll be combining most of the regions that are too small into bigger ones so that we'll have enough data to properly sample."
   ]
  },
  {
   "cell_type": "code",
   "execution_count": 76,
   "metadata": {},
   "outputs": [],
   "source": [
    "df2 = df25.copy()"
   ]
  },
  {
   "cell_type": "code",
   "execution_count": 77,
   "metadata": {},
   "outputs": [],
   "source": [
    "# df2\n",
    "df2['total_price'] = (df2.Quantity * df2.UnitPrice) - (1 - df2.Discount)\n",
    "# df21 = df2.groupby(['Region', 'OrderId'])['Discount'].sum().reset_index()\n",
    "df22 = df2.groupby(['Region', 'OrderId'])['total_price'].sum().reset_index()"
   ]
  },
  {
   "cell_type": "code",
   "execution_count": 78,
   "metadata": {},
   "outputs": [
    {
     "data": {
      "text/html": [
       "<div>\n",
       "<style scoped>\n",
       "    .dataframe tbody tr th:only-of-type {\n",
       "        vertical-align: middle;\n",
       "    }\n",
       "\n",
       "    .dataframe tbody tr th {\n",
       "        vertical-align: top;\n",
       "    }\n",
       "\n",
       "    .dataframe thead th {\n",
       "        text-align: right;\n",
       "    }\n",
       "</style>\n",
       "<table border=\"1\" class=\"dataframe\">\n",
       "  <thead>\n",
       "    <tr style=\"text-align: right;\">\n",
       "      <th></th>\n",
       "      <th>OrderId</th>\n",
       "      <th>total_price</th>\n",
       "    </tr>\n",
       "    <tr>\n",
       "      <th>Region</th>\n",
       "      <th></th>\n",
       "      <th></th>\n",
       "    </tr>\n",
       "  </thead>\n",
       "  <tbody>\n",
       "    <tr>\n",
       "      <th>British Isles</th>\n",
       "      <td>75</td>\n",
       "      <td>75</td>\n",
       "    </tr>\n",
       "    <tr>\n",
       "      <th>Central America</th>\n",
       "      <td>21</td>\n",
       "      <td>21</td>\n",
       "    </tr>\n",
       "    <tr>\n",
       "      <th>Eastern Europe</th>\n",
       "      <td>7</td>\n",
       "      <td>7</td>\n",
       "    </tr>\n",
       "    <tr>\n",
       "      <th>North America</th>\n",
       "      <td>152</td>\n",
       "      <td>152</td>\n",
       "    </tr>\n",
       "    <tr>\n",
       "      <th>Northern Europe</th>\n",
       "      <td>55</td>\n",
       "      <td>55</td>\n",
       "    </tr>\n",
       "    <tr>\n",
       "      <th>Scandinavia</th>\n",
       "      <td>28</td>\n",
       "      <td>28</td>\n",
       "    </tr>\n",
       "    <tr>\n",
       "      <th>South America</th>\n",
       "      <td>127</td>\n",
       "      <td>127</td>\n",
       "    </tr>\n",
       "    <tr>\n",
       "      <th>Southern Europe</th>\n",
       "      <td>64</td>\n",
       "      <td>64</td>\n",
       "    </tr>\n",
       "    <tr>\n",
       "      <th>Western Europe</th>\n",
       "      <td>272</td>\n",
       "      <td>272</td>\n",
       "    </tr>\n",
       "  </tbody>\n",
       "</table>\n",
       "</div>"
      ],
      "text/plain": [
       "                 OrderId  total_price\n",
       "Region                               \n",
       "British Isles         75           75\n",
       "Central America       21           21\n",
       "Eastern Europe         7            7\n",
       "North America        152          152\n",
       "Northern Europe       55           55\n",
       "Scandinavia           28           28\n",
       "South America        127          127\n",
       "Southern Europe       64           64\n",
       "Western Europe       272          272"
      ]
     },
     "execution_count": 78,
     "metadata": {},
     "output_type": "execute_result"
    }
   ],
   "source": [
    "df22.groupby('Region').count()"
   ]
  },
  {
   "cell_type": "code",
   "execution_count": 79,
   "metadata": {},
   "outputs": [],
   "source": [
    "# df22\n",
    "df22.loc[(df22.Region == 'Eastern Europe') | (df22.Region == 'Southern Europe') | (df22.Region == 'British Isles'),'Region'] = 'SE Europe and British Isles'\n",
    "df22.loc[(df22.Region == 'Scandinavia') | (df22.Region == 'Northern Europe') | (df22.Region == 'Western Europe'),'Region'] = 'NW Europe and Scandinavia'\n",
    "df22.loc[(df22.Region == 'Central America') | (df22.Region == 'South America') | (df22.Region == 'North America'),'Region'] = 'The Americas'"
   ]
  },
  {
   "cell_type": "code",
   "execution_count": 80,
   "metadata": {
    "scrolled": true
   },
   "outputs": [
    {
     "data": {
      "text/html": [
       "<div>\n",
       "<style scoped>\n",
       "    .dataframe tbody tr th:only-of-type {\n",
       "        vertical-align: middle;\n",
       "    }\n",
       "\n",
       "    .dataframe tbody tr th {\n",
       "        vertical-align: top;\n",
       "    }\n",
       "\n",
       "    .dataframe thead th {\n",
       "        text-align: right;\n",
       "    }\n",
       "</style>\n",
       "<table border=\"1\" class=\"dataframe\">\n",
       "  <thead>\n",
       "    <tr style=\"text-align: right;\">\n",
       "      <th></th>\n",
       "      <th>OrderId</th>\n",
       "      <th>total_price</th>\n",
       "    </tr>\n",
       "    <tr>\n",
       "      <th>Region</th>\n",
       "      <th></th>\n",
       "      <th></th>\n",
       "    </tr>\n",
       "  </thead>\n",
       "  <tbody>\n",
       "    <tr>\n",
       "      <th>NW Europe and Scandinavia</th>\n",
       "      <td>355</td>\n",
       "      <td>355</td>\n",
       "    </tr>\n",
       "    <tr>\n",
       "      <th>SE Europe and British Isles</th>\n",
       "      <td>146</td>\n",
       "      <td>146</td>\n",
       "    </tr>\n",
       "    <tr>\n",
       "      <th>The Americas</th>\n",
       "      <td>300</td>\n",
       "      <td>300</td>\n",
       "    </tr>\n",
       "  </tbody>\n",
       "</table>\n",
       "</div>"
      ],
      "text/plain": [
       "                             OrderId  total_price\n",
       "Region                                           \n",
       "NW Europe and Scandinavia        355          355\n",
       "SE Europe and British Isles      146          146\n",
       "The Americas                     300          300"
      ]
     },
     "execution_count": 80,
     "metadata": {},
     "output_type": "execute_result"
    }
   ],
   "source": [
    "df22.groupby('Region').count()\n",
    "# df22"
   ]
  },
  {
   "cell_type": "markdown",
   "metadata": {},
   "source": [
    "Now that we have more than enough data to sample without any issues we'll first visualize what we are looking at and we'll notice that they're for the most part pretty close to each other in total."
   ]
  },
  {
   "cell_type": "code",
   "execution_count": 81,
   "metadata": {
    "scrolled": false
   },
   "outputs": [
    {
     "data": {
      "text/plain": [
       "Text(0, 0.5, 'Region')"
      ]
     },
     "execution_count": 81,
     "metadata": {},
     "output_type": "execute_result"
    },
    {
     "data": {
      "image/png": "[encoded data removed]",
      "text/plain": [
       "<Figure size 576x576 with 1 Axes>"
      ]
     },
     "metadata": {
      "needs_background": "light"
     },
     "output_type": "display_data"
    }
   ],
   "source": [
    "ax22 = df22.groupby(['Region'])['total_price'].mean().plot(kind='barh', figsize=(8, 8))\n",
    "\n",
    "ax22.set_title('Average Revenue per Region')\n",
    "ax22.set_xlabel('Total Value')\n",
    "ax22.set_ylabel('Region')"
   ]
  },
  {
   "cell_type": "code",
   "execution_count": 82,
   "metadata": {},
   "outputs": [],
   "source": [
    "p0 = df22.loc[(df22.Region == 'The Americas'), 'total_price']\n",
    "p1 = df22.loc[(df22.Region == 'SE Europe and British Isles'), 'total_price']\n",
    "p2 = df22.loc[(df22.Region == 'NW Europe and Scandinavia'), 'total_price']"
   ]
  },
  {
   "cell_type": "code",
   "execution_count": 83,
   "metadata": {},
   "outputs": [],
   "source": [
    "# This creates the samples that we will be looking at for the following test.\n",
    "\n",
    "p0_means = []\n",
    "p1_means = []\n",
    "p2_means = []\n",
    "for i in range(30):\n",
    "    samp0_mean = np.random.choice(p0, 50, replace=False).mean()\n",
    "    samp1_mean = np.random.choice(p1, 50, replace=False).mean()\n",
    "    samp2_mean = np.random.choice(p2, 50, replace=False).mean()\n",
    "    p0_means.append(samp0_mean)\n",
    "    p1_means.append(samp1_mean)\n",
    "    p2_means.append(samp2_mean)"
   ]
  },
  {
   "cell_type": "markdown",
   "metadata": {},
   "source": [
    "Since we're working with 3 regions I decided it would be best to do Levene Tests and T-Tests with all three potential combinations."
   ]
  },
  {
   "cell_type": "code",
   "execution_count": 84,
   "metadata": {},
   "outputs": [
    {
     "name": "stdout",
     "output_type": "stream",
     "text": [
      "The Americas vs SE Europe \n",
      "\n",
      "LeveneResult(statistic=12.207339091524059, pvalue=0.0009185227058471174)\n",
      "\n",
      "The Americas vs NW Europe \n",
      "\n",
      "LeveneResult(statistic=0.7960061323987778, pvalue=0.3759768443427216)\n",
      "\n",
      "SE Europe vs NW Europe \n",
      "\n",
      "LeveneResult(statistic=7.510185591256598, pvalue=0.00814080988180073)\n"
     ]
    }
   ],
   "source": [
    "print('The Americas vs SE Europe \\n')\n",
    "print(scs.levene(p0_means, p1_means))\n",
    "print('\\nThe Americas vs NW Europe \\n')\n",
    "print(scs.levene(p0_means, p2_means))\n",
    "print('\\nSE Europe vs NW Europe \\n')\n",
    "print(scs.levene(p1_means, p2_means))"
   ]
  },
  {
   "cell_type": "code",
   "execution_count": 85,
   "metadata": {
    "scrolled": true
   },
   "outputs": [
    {
     "name": "stdout",
     "output_type": "stream",
     "text": [
      "The Americas vs SE Europe \n",
      "\n",
      "Ttest_indResult(statistic=9.269583110777507, pvalue=4.775822562116748e-13)\n",
      "\n",
      "The Americas vs NW Europe \n",
      "\n",
      "Ttest_indResult(statistic=-3.8424174126441026, pvalue=0.00030449762778042046)\n",
      "\n",
      "SE Europe vs NW Europe \n",
      "\n",
      "Ttest_indResult(statistic=-15.07691863869072, pvalue=1.0021666952700708e-21)\n"
     ]
    }
   ],
   "source": [
    "print('The Americas vs SE Europe \\n')\n",
    "print(scs.ttest_ind(p0_means, p1_means))\n",
    "print('\\nThe Americas vs NW Europe \\n')\n",
    "print(scs.ttest_ind(p0_means, p2_means))\n",
    "print('\\nSE Europe vs NW Europe \\n')\n",
    "print(scs.ttest_ind(p1_means, p2_means))"
   ]
  },
  {
   "cell_type": "code",
   "execution_count": 86,
   "metadata": {},
   "outputs": [
    {
     "data": {
      "text/plain": [
       "(1644.9615, 1173.264813333333, 1871.3576600000001)"
      ]
     },
     "execution_count": 86,
     "metadata": {},
     "output_type": "execute_result"
    }
   ],
   "source": [
    "np.mean(p0_means), np.mean(p1_means), np.mean(p2_means)"
   ]
  },
  {
   "cell_type": "markdown",
   "metadata": {},
   "source": [
    "Lastly we will take a Tukey test and an Anova Linear Model test to finalize what we're looking at here."
   ]
  },
  {
   "cell_type": "code",
   "execution_count": 87,
   "metadata": {},
   "outputs": [
    {
     "name": "stdout",
     "output_type": "stream",
     "text": [
      "                      Multiple Comparison of Means - Tukey HSD,FWER=0.05                     \n",
      "=============================================================================================\n",
      "           group1                      group2            meandiff   lower      upper   reject\n",
      "---------------------------------------------------------------------------------------------\n",
      " NW Europe and Scandinavia  SE Europe and British Isles -682.4346 -1137.1654 -227.7038  True \n",
      " NW Europe and Scandinavia          The Americas         -228.631 -591.3514   134.0894 False \n",
      "SE Europe and British Isles         The Americas         453.8037  -12.9164   920.5237 False \n",
      "---------------------------------------------------------------------------------------------\n"
     ]
    }
   ],
   "source": [
    "results = sm.stats.multicomp.pairwise_tukeyhsd(df22['total_price'], df22['Region'], 0.05)\n",
    "print(results)"
   ]
  },
  {
   "cell_type": "code",
   "execution_count": null,
   "metadata": {},
   "outputs": [],
   "source": [
    "lm = ols('total_price ~ C(Region)', df22).fit()\n",
    "sm.stats.anova_lm(lm, typ=2)"
   ]
  },
  {
   "cell_type": "markdown",
   "metadata": {},
   "source": [
    "### Results\n",
    "\n",
    "The P value is for most of the data is not able to reject the Null Hypothesis for most of it but it seems that NW Europe and SE Europe are significant enough when compared to each other to reject the Null Hypothesis.\n",
    "\n",
    "### Final Remarks\n",
    "\n",
    "Each of the regions hold a decent amount of significance when compared this way, there would be no reason to fully invest in one region over the other unless we further dug into the data with more data acquisition to see which specific regions that were not large enough on their own to sample are worth continuing sales with."
   ]
  },
  {
   "cell_type": "markdown",
   "metadata": {},
   "source": [
    "# Question_3\n",
    "\n",
    "#### Is there a statistical significance on Average Price based on who is shipping it? "
   ]
  },
  {
   "cell_type": "markdown",
   "metadata": {},
   "source": [
    "Similar to the last question, we need to first take the two tables that we will be using and make them a single one, then we'll clean out most of the less important columns for this question."
   ]
  },
  {
   "cell_type": "code",
   "execution_count": 88,
   "metadata": {},
   "outputs": [],
   "source": [
    "df31 = df['Order'].copy()\n",
    "df32 = df['OrderDetail'].copy()"
   ]
  },
  {
   "cell_type": "code",
   "execution_count": 92,
   "metadata": {},
   "outputs": [],
   "source": [
    "# Used for Testing\n",
    "# df31.head()\n",
    "# df32.head()"
   ]
  },
  {
   "cell_type": "code",
   "execution_count": 91,
   "metadata": {},
   "outputs": [],
   "source": [
    "df3 = pd.merge(df31, df32, left_on='Id', right_on='OrderId')"
   ]
  },
  {
   "cell_type": "code",
   "execution_count": 93,
   "metadata": {},
   "outputs": [
    {
     "data": {
      "text/html": [
       "<div>\n",
       "<style scoped>\n",
       "    .dataframe tbody tr th:only-of-type {\n",
       "        vertical-align: middle;\n",
       "    }\n",
       "\n",
       "    .dataframe tbody tr th {\n",
       "        vertical-align: top;\n",
       "    }\n",
       "\n",
       "    .dataframe thead th {\n",
       "        text-align: right;\n",
       "    }\n",
       "</style>\n",
       "<table border=\"1\" class=\"dataframe\">\n",
       "  <thead>\n",
       "    <tr style=\"text-align: right;\">\n",
       "      <th></th>\n",
       "      <th>Id_x</th>\n",
       "      <th>CustomerId</th>\n",
       "      <th>EmployeeId</th>\n",
       "      <th>OrderDate</th>\n",
       "      <th>RequiredDate</th>\n",
       "      <th>ShippedDate</th>\n",
       "      <th>ShipVia</th>\n",
       "      <th>Freight</th>\n",
       "      <th>ShipName</th>\n",
       "      <th>ShipAddress</th>\n",
       "      <th>ShipCity</th>\n",
       "      <th>ShipRegion</th>\n",
       "      <th>ShipPostalCode</th>\n",
       "      <th>ShipCountry</th>\n",
       "      <th>Id_y</th>\n",
       "      <th>OrderId</th>\n",
       "      <th>ProductId</th>\n",
       "      <th>UnitPrice</th>\n",
       "      <th>Quantity</th>\n",
       "      <th>Discount</th>\n",
       "    </tr>\n",
       "  </thead>\n",
       "  <tbody>\n",
       "    <tr>\n",
       "      <th>0</th>\n",
       "      <td>10248</td>\n",
       "      <td>VINET</td>\n",
       "      <td>5</td>\n",
       "      <td>2012-07-04</td>\n",
       "      <td>2012-08-01</td>\n",
       "      <td>2012-07-16</td>\n",
       "      <td>3</td>\n",
       "      <td>32.38</td>\n",
       "      <td>Vins et alcools Chevalier</td>\n",
       "      <td>59 rue de l'Abbaye</td>\n",
       "      <td>Reims</td>\n",
       "      <td>Western Europe</td>\n",
       "      <td>51100</td>\n",
       "      <td>France</td>\n",
       "      <td>10248/11</td>\n",
       "      <td>10248</td>\n",
       "      <td>11</td>\n",
       "      <td>14.0</td>\n",
       "      <td>12</td>\n",
       "      <td>0.0</td>\n",
       "    </tr>\n",
       "    <tr>\n",
       "      <th>1</th>\n",
       "      <td>10248</td>\n",
       "      <td>VINET</td>\n",
       "      <td>5</td>\n",
       "      <td>2012-07-04</td>\n",
       "      <td>2012-08-01</td>\n",
       "      <td>2012-07-16</td>\n",
       "      <td>3</td>\n",
       "      <td>32.38</td>\n",
       "      <td>Vins et alcools Chevalier</td>\n",
       "      <td>59 rue de l'Abbaye</td>\n",
       "      <td>Reims</td>\n",
       "      <td>Western Europe</td>\n",
       "      <td>51100</td>\n",
       "      <td>France</td>\n",
       "      <td>10248/42</td>\n",
       "      <td>10248</td>\n",
       "      <td>42</td>\n",
       "      <td>9.8</td>\n",
       "      <td>10</td>\n",
       "      <td>0.0</td>\n",
       "    </tr>\n",
       "    <tr>\n",
       "      <th>2</th>\n",
       "      <td>10248</td>\n",
       "      <td>VINET</td>\n",
       "      <td>5</td>\n",
       "      <td>2012-07-04</td>\n",
       "      <td>2012-08-01</td>\n",
       "      <td>2012-07-16</td>\n",
       "      <td>3</td>\n",
       "      <td>32.38</td>\n",
       "      <td>Vins et alcools Chevalier</td>\n",
       "      <td>59 rue de l'Abbaye</td>\n",
       "      <td>Reims</td>\n",
       "      <td>Western Europe</td>\n",
       "      <td>51100</td>\n",
       "      <td>France</td>\n",
       "      <td>10248/72</td>\n",
       "      <td>10248</td>\n",
       "      <td>72</td>\n",
       "      <td>34.8</td>\n",
       "      <td>5</td>\n",
       "      <td>0.0</td>\n",
       "    </tr>\n",
       "    <tr>\n",
       "      <th>3</th>\n",
       "      <td>10249</td>\n",
       "      <td>TOMSP</td>\n",
       "      <td>6</td>\n",
       "      <td>2012-07-05</td>\n",
       "      <td>2012-08-16</td>\n",
       "      <td>2012-07-10</td>\n",
       "      <td>1</td>\n",
       "      <td>11.61</td>\n",
       "      <td>Toms Spezialitäten</td>\n",
       "      <td>Luisenstr. 48</td>\n",
       "      <td>Münster</td>\n",
       "      <td>Western Europe</td>\n",
       "      <td>44087</td>\n",
       "      <td>Germany</td>\n",
       "      <td>10249/14</td>\n",
       "      <td>10249</td>\n",
       "      <td>14</td>\n",
       "      <td>18.6</td>\n",
       "      <td>9</td>\n",
       "      <td>0.0</td>\n",
       "    </tr>\n",
       "    <tr>\n",
       "      <th>4</th>\n",
       "      <td>10249</td>\n",
       "      <td>TOMSP</td>\n",
       "      <td>6</td>\n",
       "      <td>2012-07-05</td>\n",
       "      <td>2012-08-16</td>\n",
       "      <td>2012-07-10</td>\n",
       "      <td>1</td>\n",
       "      <td>11.61</td>\n",
       "      <td>Toms Spezialitäten</td>\n",
       "      <td>Luisenstr. 48</td>\n",
       "      <td>Münster</td>\n",
       "      <td>Western Europe</td>\n",
       "      <td>44087</td>\n",
       "      <td>Germany</td>\n",
       "      <td>10249/51</td>\n",
       "      <td>10249</td>\n",
       "      <td>51</td>\n",
       "      <td>42.4</td>\n",
       "      <td>40</td>\n",
       "      <td>0.0</td>\n",
       "    </tr>\n",
       "  </tbody>\n",
       "</table>\n",
       "</div>"
      ],
      "text/plain": [
       "    Id_x CustomerId  EmployeeId   OrderDate RequiredDate ShippedDate  ShipVia  \\\n",
       "0  10248      VINET           5  2012-07-04   2012-08-01  2012-07-16        3   \n",
       "1  10248      VINET           5  2012-07-04   2012-08-01  2012-07-16        3   \n",
       "2  10248      VINET           5  2012-07-04   2012-08-01  2012-07-16        3   \n",
       "3  10249      TOMSP           6  2012-07-05   2012-08-16  2012-07-10        1   \n",
       "4  10249      TOMSP           6  2012-07-05   2012-08-16  2012-07-10        1   \n",
       "\n",
       "   Freight                   ShipName         ShipAddress ShipCity  \\\n",
       "0    32.38  Vins et alcools Chevalier  59 rue de l'Abbaye    Reims   \n",
       "1    32.38  Vins et alcools Chevalier  59 rue de l'Abbaye    Reims   \n",
       "2    32.38  Vins et alcools Chevalier  59 rue de l'Abbaye    Reims   \n",
       "3    11.61         Toms Spezialitäten       Luisenstr. 48  Münster   \n",
       "4    11.61         Toms Spezialitäten       Luisenstr. 48  Münster   \n",
       "\n",
       "       ShipRegion ShipPostalCode ShipCountry      Id_y  OrderId  ProductId  \\\n",
       "0  Western Europe          51100      France  10248/11    10248         11   \n",
       "1  Western Europe          51100      France  10248/42    10248         42   \n",
       "2  Western Europe          51100      France  10248/72    10248         72   \n",
       "3  Western Europe          44087     Germany  10249/14    10249         14   \n",
       "4  Western Europe          44087     Germany  10249/51    10249         51   \n",
       "\n",
       "   UnitPrice  Quantity  Discount  \n",
       "0       14.0        12       0.0  \n",
       "1        9.8        10       0.0  \n",
       "2       34.8         5       0.0  \n",
       "3       18.6         9       0.0  \n",
       "4       42.4        40       0.0  "
      ]
     },
     "execution_count": 93,
     "metadata": {},
     "output_type": "execute_result"
    }
   ],
   "source": [
    "df3.head()"
   ]
  },
  {
   "cell_type": "code",
   "execution_count": 94,
   "metadata": {},
   "outputs": [],
   "source": [
    "df3['total_price'] = (df3.Quantity * df3.UnitPrice) * (1 - df3.Discount)"
   ]
  },
  {
   "cell_type": "code",
   "execution_count": 95,
   "metadata": {},
   "outputs": [],
   "source": [
    "df3.drop(['Id_x', 'Id_y', 'Discount', 'ShipCountry', 'ShipPostalCode', 'OrderId', 'ProductId', 'UnitPrice', 'ShippedDate', 'ShipRegion', 'CustomerId', 'EmployeeId', 'OrderDate', 'RequiredDate', 'Freight', 'ShipName', 'ShipAddress', 'ShipCity'], axis=1, inplace=True)"
   ]
  },
  {
   "cell_type": "code",
   "execution_count": 96,
   "metadata": {},
   "outputs": [
    {
     "data": {
      "text/html": [
       "<div>\n",
       "<style scoped>\n",
       "    .dataframe tbody tr th:only-of-type {\n",
       "        vertical-align: middle;\n",
       "    }\n",
       "\n",
       "    .dataframe tbody tr th {\n",
       "        vertical-align: top;\n",
       "    }\n",
       "\n",
       "    .dataframe thead th {\n",
       "        text-align: right;\n",
       "    }\n",
       "</style>\n",
       "<table border=\"1\" class=\"dataframe\">\n",
       "  <thead>\n",
       "    <tr style=\"text-align: right;\">\n",
       "      <th></th>\n",
       "      <th>ShipVia</th>\n",
       "      <th>Quantity</th>\n",
       "      <th>total_price</th>\n",
       "    </tr>\n",
       "  </thead>\n",
       "  <tbody>\n",
       "    <tr>\n",
       "      <th>0</th>\n",
       "      <td>3</td>\n",
       "      <td>12</td>\n",
       "      <td>168.0</td>\n",
       "    </tr>\n",
       "    <tr>\n",
       "      <th>1</th>\n",
       "      <td>3</td>\n",
       "      <td>10</td>\n",
       "      <td>98.0</td>\n",
       "    </tr>\n",
       "    <tr>\n",
       "      <th>2</th>\n",
       "      <td>3</td>\n",
       "      <td>5</td>\n",
       "      <td>174.0</td>\n",
       "    </tr>\n",
       "    <tr>\n",
       "      <th>3</th>\n",
       "      <td>1</td>\n",
       "      <td>9</td>\n",
       "      <td>167.4</td>\n",
       "    </tr>\n",
       "    <tr>\n",
       "      <th>4</th>\n",
       "      <td>1</td>\n",
       "      <td>40</td>\n",
       "      <td>1696.0</td>\n",
       "    </tr>\n",
       "  </tbody>\n",
       "</table>\n",
       "</div>"
      ],
      "text/plain": [
       "   ShipVia  Quantity  total_price\n",
       "0        3        12        168.0\n",
       "1        3        10         98.0\n",
       "2        3         5        174.0\n",
       "3        1         9        167.4\n",
       "4        1        40       1696.0"
      ]
     },
     "execution_count": 96,
     "metadata": {},
     "output_type": "execute_result"
    }
   ],
   "source": [
    "df3.head()"
   ]
  },
  {
   "cell_type": "code",
   "execution_count": 97,
   "metadata": {
    "scrolled": true
   },
   "outputs": [
    {
     "data": {
      "text/html": [
       "<div>\n",
       "<style scoped>\n",
       "    .dataframe tbody tr th:only-of-type {\n",
       "        vertical-align: middle;\n",
       "    }\n",
       "\n",
       "    .dataframe tbody tr th {\n",
       "        vertical-align: top;\n",
       "    }\n",
       "\n",
       "    .dataframe thead th {\n",
       "        text-align: right;\n",
       "    }\n",
       "</style>\n",
       "<table border=\"1\" class=\"dataframe\">\n",
       "  <thead>\n",
       "    <tr style=\"text-align: right;\">\n",
       "      <th></th>\n",
       "      <th>Quantity</th>\n",
       "      <th>total_price</th>\n",
       "    </tr>\n",
       "    <tr>\n",
       "      <th>ShipVia</th>\n",
       "      <th></th>\n",
       "      <th></th>\n",
       "    </tr>\n",
       "  </thead>\n",
       "  <tbody>\n",
       "    <tr>\n",
       "      <th>1</th>\n",
       "      <td>15919</td>\n",
       "      <td>348839.9375</td>\n",
       "    </tr>\n",
       "    <tr>\n",
       "      <th>2</th>\n",
       "      <td>19945</td>\n",
       "      <td>533547.6340</td>\n",
       "    </tr>\n",
       "    <tr>\n",
       "      <th>3</th>\n",
       "      <td>15453</td>\n",
       "      <td>383405.4680</td>\n",
       "    </tr>\n",
       "  </tbody>\n",
       "</table>\n",
       "</div>"
      ],
      "text/plain": [
       "         Quantity  total_price\n",
       "ShipVia                       \n",
       "1           15919  348839.9375\n",
       "2           19945  533547.6340\n",
       "3           15453  383405.4680"
      ]
     },
     "execution_count": 97,
     "metadata": {},
     "output_type": "execute_result"
    }
   ],
   "source": [
    "df3.groupby('ShipVia').sum()"
   ]
  },
  {
   "cell_type": "markdown",
   "metadata": {},
   "source": [
    "Now that we know what we are working with it is easy for us to make a chart showing the sum of each shipping companies sales. And if you look at the chart it seems that Shipping Company 2 seems to have a pretty signficant lead over the other two."
   ]
  },
  {
   "cell_type": "code",
   "execution_count": 105,
   "metadata": {
    "scrolled": false
   },
   "outputs": [
    {
     "data": {
      "text/plain": [
       "Text(0.5, 1.0, 'Total Revenue made per Shipping Company')"
      ]
     },
     "execution_count": 105,
     "metadata": {},
     "output_type": "execute_result"
    },
    {
     "data": {
      "image/png": "[encoded data removed]",
      "text/plain": [
       "<Figure size 576x936 with 1 Axes>"
      ]
     },
     "metadata": {
      "needs_background": "light"
     },
     "output_type": "display_data"
    }
   ],
   "source": [
    "ax3 = df3.groupby(['ShipVia'])['total_price'].sum().plot(kind='bar', figsize=(8, 13))\n",
    "\n",
    "ax3.set_xlabel('Shipping Company')\n",
    "ax3.set_ylabel('Total Revenue')\n",
    "ax3.set_title('Total Revenue made per Shipping Company')"
   ]
  },
  {
   "cell_type": "markdown",
   "metadata": {},
   "source": [
    "Now we'll take these three shipping companies and compare them to one another with some sampling, Levene tests, and T-Tests like we have done with everything else up to this point."
   ]
  },
  {
   "cell_type": "code",
   "execution_count": 99,
   "metadata": {},
   "outputs": [],
   "source": [
    "p0 = df3.loc[(df3.ShipVia == 1), 'total_price']\n",
    "p0 = df3.loc[(df3.ShipVia == 2), 'total_price']\n",
    "p0 = df3.loc[(df3.ShipVia == 3), 'total_price']"
   ]
  },
  {
   "cell_type": "code",
   "execution_count": 100,
   "metadata": {},
   "outputs": [],
   "source": [
    "# This creates the samples that we will be looking at for the following test.\n",
    "\n",
    "p0_means = []\n",
    "p1_means = []\n",
    "p2_means = []\n",
    "for i in range(30):\n",
    "    samp0_mean = np.random.choice(p0, 50, replace=False).mean()\n",
    "    samp1_mean = np.random.choice(p1, 50, replace=False).mean()\n",
    "    samp2_mean = np.random.choice(p2, 50, replace=False).mean()\n",
    "    p0_means.append(samp0_mean)\n",
    "    p1_means.append(samp1_mean)\n",
    "    p2_means.append(samp2_mean)"
   ]
  },
  {
   "cell_type": "code",
   "execution_count": 101,
   "metadata": {},
   "outputs": [
    {
     "name": "stdout",
     "output_type": "stream",
     "text": [
      "Shipping Company 1 \n",
      "\n",
      "LeveneResult(statistic=0.1605385883430534, pvalue=0.6901332931300911)\n",
      "\n",
      "Shipping Company 2 \n",
      "\n",
      "LeveneResult(statistic=5.495103097146704, pvalue=0.022516507434269514)\n",
      "\n",
      "Shipping Compnay 3 \n",
      "\n",
      "LeveneResult(statistic=4.154857447480087, pvalue=0.04608342126246616)\n"
     ]
    }
   ],
   "source": [
    "print('Shipping Company 1 \\n')\n",
    "print(scs.levene(p0_means, p1_means))\n",
    "print('\\nShipping Company 2 \\n')\n",
    "print(scs.levene(p0_means, p2_means))\n",
    "print('\\nShipping Compnay 3 \\n')\n",
    "print(scs.levene(p1_means, p2_means))"
   ]
  },
  {
   "cell_type": "markdown",
   "metadata": {},
   "source": [
    "One of the Levene Tests tells us that shipping 1 and shipping 2 are not significant with each other. "
   ]
  },
  {
   "cell_type": "code",
   "execution_count": 102,
   "metadata": {
    "scrolled": true
   },
   "outputs": [
    {
     "name": "stdout",
     "output_type": "stream",
     "text": [
      "Shipping Company 1 vs Shipping Company 2 \n",
      "\n",
      "Ttest_indResult(statistic=-15.082849566351724, pvalue=9.84040759691454e-22)\n",
      "\n",
      "Shipping Company 1 vs Shipping Company 3 \n",
      "\n",
      "Ttest_indResult(statistic=-26.744103520297106, pvalue=2.5875085301550856e-34)\n",
      "\n",
      "Shipping Company 2 vs Shipping Company 3 \n",
      "\n",
      "Ttest_indResult(statistic=-15.00226136522227, pvalue=1.261486116336608e-21)\n"
     ]
    }
   ],
   "source": [
    "print('Shipping Company 1 vs Shipping Company 2 \\n')\n",
    "print(scs.ttest_ind(p0_means, p1_means))\n",
    "print('\\nShipping Company 1 vs Shipping Company 3 \\n')\n",
    "print(scs.ttest_ind(p0_means, p2_means))\n",
    "print('\\nShipping Company 2 vs Shipping Company 3 \\n')\n",
    "print(scs.ttest_ind(p1_means, p2_means))"
   ]
  },
  {
   "cell_type": "code",
   "execution_count": 103,
   "metadata": {
    "scrolled": true
   },
   "outputs": [
    {
     "data": {
      "text/plain": [
       "(584.4180186666666, 1154.3306733333334, 1908.1944933333332)"
      ]
     },
     "execution_count": 103,
     "metadata": {},
     "output_type": "execute_result"
    }
   ],
   "source": [
    "np.mean(p0_means), np.mean(p1_means), np.mean(p2_means)"
   ]
  },
  {
   "cell_type": "markdown",
   "metadata": {},
   "source": [
    "Next we're going to do a Tukey Test and an Anova Linear Model test on the data and we'll see that we cannot reject the Null hypothesis for any of the information that we have. "
   ]
  },
  {
   "cell_type": "code",
   "execution_count": 104,
   "metadata": {
    "scrolled": true
   },
   "outputs": [
    {
     "name": "stdout",
     "output_type": "stream",
     "text": [
      "Multiple Comparison of Means - Tukey HSD,FWER=0.05\n",
      "================================================\n",
      "group1 group2 meandiff   lower    upper   reject\n",
      "------------------------------------------------\n",
      "  1      2    77.5321   -40.6919 195.7561 False \n",
      "  1      3    54.4272   -72.0922 180.9466 False \n",
      "  2      3    -23.1049 -141.3813 95.1715  False \n",
      "------------------------------------------------\n"
     ]
    }
   ],
   "source": [
    "results = sm.stats.multicomp.pairwise_tukeyhsd(df3['total_price'], df3['ShipVia'], 0.05)\n",
    "print(results)"
   ]
  },
  {
   "cell_type": "code",
   "execution_count": 108,
   "metadata": {
    "scrolled": true
   },
   "outputs": [
    {
     "data": {
      "text/html": [
       "<div>\n",
       "<style scoped>\n",
       "    .dataframe tbody tr th:only-of-type {\n",
       "        vertical-align: middle;\n",
       "    }\n",
       "\n",
       "    .dataframe tbody tr th {\n",
       "        vertical-align: top;\n",
       "    }\n",
       "\n",
       "    .dataframe thead th {\n",
       "        text-align: right;\n",
       "    }\n",
       "</style>\n",
       "<table border=\"1\" class=\"dataframe\">\n",
       "  <thead>\n",
       "    <tr style=\"text-align: right;\">\n",
       "      <th></th>\n",
       "      <th>sum_sq</th>\n",
       "      <th>df</th>\n",
       "      <th>F</th>\n",
       "      <th>PR(&gt;F)</th>\n",
       "    </tr>\n",
       "  </thead>\n",
       "  <tbody>\n",
       "    <tr>\n",
       "      <th>C(ShipVia)</th>\n",
       "      <td>2.267719e+06</td>\n",
       "      <td>2.0</td>\n",
       "      <td>1.207242</td>\n",
       "      <td>0.299223</td>\n",
       "    </tr>\n",
       "    <tr>\n",
       "      <th>Residual</th>\n",
       "      <td>2.021190e+09</td>\n",
       "      <td>2152.0</td>\n",
       "      <td>NaN</td>\n",
       "      <td>NaN</td>\n",
       "    </tr>\n",
       "  </tbody>\n",
       "</table>\n",
       "</div>"
      ],
      "text/plain": [
       "                  sum_sq      df         F    PR(>F)\n",
       "C(ShipVia)  2.267719e+06     2.0  1.207242  0.299223\n",
       "Residual    2.021190e+09  2152.0       NaN       NaN"
      ]
     },
     "execution_count": 108,
     "metadata": {},
     "output_type": "execute_result"
    }
   ],
   "source": [
    "# Fitting a model of price_per_order on Region categories, and using statsmodels to compute an ANOVA table\n",
    "lm = ols('total_price ~ C(ShipVia)', df3).fit()\n",
    "sm.stats.anova_lm(lm, typ=2)"
   ]
  },
  {
   "cell_type": "markdown",
   "metadata": {},
   "source": [
    "### Results\n",
    "\n",
    "For the most part we have most of the data showing that we cannnot reject the null hypothesis but then we have some tests that give us very high P values.\n",
    "\n",
    "### Final Remarks\n",
    "\n",
    "I think that this data tells us that each of the shipping companies is worth using but we must re-evaluate the question if we wish to go further into this for the sellers. One thing that we could do is check the significance of each shipper based in each region to see which ones do better and hold signfiicance but we don't have enough data to check each region."
   ]
  },
  {
   "cell_type": "markdown",
   "metadata": {},
   "source": [
    "# Conclusion\n",
    "\n",
    "Between the four questions that were sorted out and asked today we had learned quite a bit about the statistical significance between related data. \n",
    "\n",
    "If we were to continue our search to make or refine this information I think the biggest aspect would be having more data points in general since there were questions relating to categories significance based on each level of discount but there was just not enough data per point to make a reasonably sized sample to do any tests on. \n",
    "\n",
    "And to reitterate what the questions have taught us: \n",
    "\n",
    "* Discounts yield significant results when based on Quantity\n",
    "* Average price does yield significant results when based on type of Item bought\n",
    "    * Futher research is required to make this data better\n",
    "* Average price yield a signficant results when based on Region\n",
    "    * We can reject the Null hypothesis in somes cases however.\n",
    "* Average price yield a signficant results when based on Region\n",
    "    * We can reject the Null hypothesis in somes cases however."
   ]
  }
 ],
 "metadata": {
  "kernelspec": {
   "display_name": "Python 3",
   "language": "python",
   "name": "python3"
  },
  "language_info": {
   "codemirror_mode": {
    "name": "ipython",
    "version": 3
   },
   "file_extension": ".py",
   "mimetype": "text/x-python",
   "name": "python",
   "nbconvert_exporter": "python",
   "pygments_lexer": "ipython3",
   "version": "3.7.3"
  }
 },
 "nbformat": 4,
 "nbformat_minor": 2
}
